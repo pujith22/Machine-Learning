{
 "cells": [
  {
   "cell_type": "code",
   "execution_count": 1,
   "metadata": {},
   "outputs": [
    {
     "name": "stdout",
     "output_type": "stream",
     "text": [
      "Requirement already satisfied: numpy in c:\\users\\pujith sai kumar k\\appdata\\local\\programs\\python\\python38-32\\lib\\site-packages (1.18.5)\n",
      "Requirement already satisfied: pandas in c:\\users\\pujith sai kumar k\\appdata\\local\\programs\\python\\python38-32\\lib\\site-packages (1.0.4)\n",
      "Requirement already satisfied: python-dateutil>=2.6.1 in c:\\users\\pujith sai kumar k\\appdata\\local\\programs\\python\\python38-32\\lib\\site-packages (from pandas) (2.8.1)\n",
      "Requirement already satisfied: numpy>=1.13.3 in c:\\users\\pujith sai kumar k\\appdata\\local\\programs\\python\\python38-32\\lib\\site-packages (from pandas) (1.18.5)\n",
      "Requirement already satisfied: pytz>=2017.2 in c:\\users\\pujith sai kumar k\\appdata\\local\\programs\\python\\python38-32\\lib\\site-packages (from pandas) (2020.1)\n",
      "Requirement already satisfied: six>=1.5 in c:\\users\\pujith sai kumar k\\appdata\\local\\programs\\python\\python38-32\\lib\\site-packages (from python-dateutil>=2.6.1->pandas) (1.15.0)\n",
      "Requirement already satisfied: matplotlib in c:\\users\\pujith sai kumar k\\appdata\\local\\programs\\python\\python38-32\\lib\\site-packages (3.2.2)\n",
      "Requirement already satisfied: numpy>=1.11 in c:\\users\\pujith sai kumar k\\appdata\\local\\programs\\python\\python38-32\\lib\\site-packages (from matplotlib) (1.18.5)\n",
      "Requirement already satisfied: python-dateutil>=2.1 in c:\\users\\pujith sai kumar k\\appdata\\local\\programs\\python\\python38-32\\lib\\site-packages (from matplotlib) (2.8.1)\n",
      "Requirement already satisfied: cycler>=0.10 in c:\\users\\pujith sai kumar k\\appdata\\local\\programs\\python\\python38-32\\lib\\site-packages (from matplotlib) (0.10.0)\n",
      "Requirement already satisfied: kiwisolver>=1.0.1 in c:\\users\\pujith sai kumar k\\appdata\\local\\programs\\python\\python38-32\\lib\\site-packages (from matplotlib) (1.2.0)\n",
      "Requirement already satisfied: pyparsing!=2.0.4,!=2.1.2,!=2.1.6,>=2.0.1 in c:\\users\\pujith sai kumar k\\appdata\\local\\programs\\python\\python38-32\\lib\\site-packages (from matplotlib) (2.4.7)\n",
      "Requirement already satisfied: six>=1.5 in c:\\users\\pujith sai kumar k\\appdata\\local\\programs\\python\\python38-32\\lib\\site-packages (from python-dateutil>=2.1->matplotlib) (1.15.0)\n"
     ]
    }
   ],
   "source": [
    "!pip install numpy\n",
    "!pip install pandas\n",
    "!pip install matplotlib\n",
    "\n",
    "import numpy as np\n",
    "import pandas as pd\n",
    "import matplotlib.pyplot as plt\n",
    "from matplotlib import style"
   ]
  },
  {
   "cell_type": "code",
   "execution_count": 2,
   "metadata": {},
   "outputs": [
    {
     "name": "stdout",
     "output_type": "stream",
     "text": [
      "1 1 0 0 1 1 1 0 0 1 1 4 0 1 6 1 1 2 5 0 1 0 1 3 0 1 1 1 2 4 1 4 1 5 2 0 1 1 1 1 1 1 0 0 0 1 1 1 0 1 0 1 1 0 1 1 1 0 1 0 0 1 1 1 0 1 0 5 4 0 0 0 2 1 1 1 1 1 5 4 1 1 1 0 0 1 1 1 1 1 1 6 0 0 1 1 0 3 1 4 5 1 1 0 0 0 0 1 2 0 0 3 1 1 1 0 0 3 1 1 1 0 1 1 0 1 1 1 0 1 0 1 1 3 2 0 1 0 4 2 0 0 3 1 0 0 6 1 1 1 0 0 1 4 0 1 0 1 0 1 0 0 1 1 0 0 0 4 1 1 1 1 5 1 1 1 1 1 0 1 0 1 1 1 1 1 1 0 0 1 3 1 1 1 0 1 5 0 0 1 0 0 1 0 1 1 0 1 1 0 0 0 1 1 0 5 0 2 0 1 0 1 6 1 0 1 1 0 0 1 1 1 1 1 1 0 0 1 1 1 1 5 0 0 0 0 0 1 0 1 "
     ]
    }
   ],
   "source": [
    "np.random.seed(170)\n",
    "allwalks = []\n",
    "for i in range(250):\n",
    "    randwalk = [0]\n",
    "    for x in range(100):\n",
    "        step = randwalk[-1]\n",
    "        dice = np.random.randint(1,7)\n",
    "        if dice <= 2 :\n",
    "            step = max(0, step - 1)\n",
    "        elif dice<=5:\n",
    "            step += 1\n",
    "        else:\n",
    "            step = step + np.random.randint(1,7)  \n",
    "    print(step,end=\" \")"
   ]
  },
  {
   "cell_type": "code",
   "execution_count": 3,
   "metadata": {},
   "outputs": [
    {
     "name": "stdout",
     "output_type": "stream",
     "text": [
      "Requirement already satisfied: scipy in c:\\users\\pujith sai kumar k\\appdata\\local\\programs\\python\\python38-32\\lib\\site-packages (1.5.0)\n",
      "Requirement already satisfied: numpy>=1.14.5 in c:\\users\\pujith sai kumar k\\appdata\\local\\programs\\python\\python38-32\\lib\\site-packages (from scipy) (1.18.5)\n"
     ]
    },
    {
     "name": "stderr",
     "output_type": "stream",
     "text": [
      "ERROR: Could not find a version that satisfies the requirement random (from versions: none)\n",
      "ERROR: No matching distribution found for random\n"
     ]
    },
    {
     "name": "stdout",
     "output_type": "stream",
     "text": [
      "         X0        X1        X2        X3         Y\n",
      "0 -0.722927 -0.523285 -1.104312  0.146233  0.085521\n",
      "1  0.657656 -0.462544 -0.649608 -0.098322  0.657397\n",
      "2  0.809608  1.656875 -1.643149  0.605849  2.127422\n",
      "3 -0.964665  0.777876  0.933740 -1.779115  1.143697\n",
      "4  0.664554  0.066650  0.161667  1.321304  1.811764\n",
      "          X0        X1        X2        X3         Y\n",
      "95 -0.657342  1.003349 -0.279877 -1.143762  0.831284\n",
      "96  0.698237 -0.964563  0.072479  2.263308  1.880397\n",
      "97 -0.315319 -0.132453 -1.437540 -1.715018 -0.089836\n",
      "98  1.768412 -1.538573 -1.426026 -0.802017  0.287538\n",
      "99 -0.741923  1.486105 -0.177379 -0.686191  1.118889\n",
      "<class 'pandas.core.frame.DataFrame'>\n",
      "RangeIndex: 100 entries, 0 to 99\n",
      "Data columns (total 5 columns):\n",
      " #   Column  Non-Null Count  Dtype  \n",
      "---  ------  --------------  -----  \n",
      " 0   X0      100 non-null    float64\n",
      " 1   X1      100 non-null    float64\n",
      " 2   X2      100 non-null    float64\n",
      " 3   X3      100 non-null    float64\n",
      " 4   Y       100 non-null    float64\n",
      "dtypes: float64(5)\n",
      "memory usage: 4.0 KB\n",
      "None\n",
      "               X0          X1          X2          X3           Y\n",
      "count  100.000000  100.000000  100.000000  100.000000  100.000000\n",
      "mean     0.018401   -0.016540    0.012276   -0.202395    0.939506\n",
      "std      0.926218    1.094544    0.968810    1.071860    0.886917\n",
      "min     -1.874390   -3.261148   -1.857723   -2.901285   -1.001794\n",
      "25%     -0.647169   -0.673629   -0.650976   -0.888864    0.329536\n",
      "50%     -0.024079   -0.045552   -0.029995   -0.145110    0.922443\n",
      "75%      0.668892    0.697904    0.607652    0.522868    1.487925\n",
      "max      2.567626    2.709694    2.628505    2.311576    3.304956\n"
     ]
    }
   ],
   "source": [
    "!pip install scipy\n",
    "!pip install random\n",
    "import scipy\n",
    "import random\n",
    "from scipy.stats import norm\n",
    "random.seed(1)\n",
    "features = 4\n",
    "X = []\n",
    "for i in range(features):\n",
    "    X_i = scipy.stats.norm.rvs(0, 1, 100)\n",
    "    X.append(X_i)\n",
    "#print(X)\n",
    "eps = scipy.stats.norm.rvs(0, 0.25,100)\n",
    "y = 1 + (0.4 * X[0]) + eps + (0.5 * X[1]) + (0.3 * X[2]) + (0.4 * X[3])\n",
    "data_mlr = {'X0': X[0],'X1':X[1],'X2':X[2],'X3':X[3],'Y': y }\n",
    "df = pd.DataFrame(data_mlr)\n",
    "print(df.head())\n",
    "print(df.tail())\n",
    "print(df.info())\n",
    "print(df.describe())"
   ]
  },
  {
   "cell_type": "code",
   "execution_count": 4,
   "metadata": {},
   "outputs": [
    {
     "name": "stdout",
     "output_type": "stream",
     "text": [
      "         X0        X1        X2        X3  Y\n",
      "0  0.733079 -1.102377 -0.331173 -0.104583  1\n",
      "1  0.882983 -0.712760 -0.055173  0.925884  1\n",
      "2  1.406140 -0.188864  0.461310  1.092031  1\n",
      "3  1.156084  0.359358  0.261123 -1.814078  1\n",
      "4 -1.471283 -0.487096  1.419173  0.133699  1\n",
      "          X0        X1        X2        X3  Y\n",
      "95 -1.473521 -1.058118  2.176194  1.268704  1\n",
      "96 -0.048121  2.085305 -1.160101  0.217613  1\n",
      "97  0.941558 -0.559839 -0.701568  1.772009  1\n",
      "98  0.320726 -0.175581 -0.890013 -0.614987  1\n",
      "99 -1.071775 -0.197958 -0.816253 -1.284277  0\n",
      "<class 'pandas.core.frame.DataFrame'>\n",
      "RangeIndex: 100 entries, 0 to 99\n",
      "Data columns (total 5 columns):\n",
      " #   Column  Non-Null Count  Dtype  \n",
      "---  ------  --------------  -----  \n",
      " 0   X0      100 non-null    float64\n",
      " 1   X1      100 non-null    float64\n",
      " 2   X2      100 non-null    float64\n",
      " 3   X3      100 non-null    float64\n",
      " 4   Y       100 non-null    int64  \n",
      "dtypes: float64(4), int64(1)\n",
      "memory usage: 4.0 KB\n",
      "None\n",
      "               X0          X1          X2          X3           Y\n",
      "count  100.000000  100.000000  100.000000  100.000000  100.000000\n",
      "mean     0.006621    0.038970    0.086922   -0.023185    0.870000\n",
      "std      1.107977    1.066568    1.027765    1.087581    0.337998\n",
      "min     -3.024312   -3.559698   -2.167586   -2.421791    0.000000\n",
      "25%     -0.815105   -0.636855   -0.684212   -0.776346    1.000000\n",
      "50%      0.005811    0.039785    0.028600    0.062569    1.000000\n",
      "75%      0.794061    0.656460    0.783176    0.851916    1.000000\n",
      "max      2.480144    2.886012    2.473017    2.537790    1.000000\n"
     ]
    }
   ],
   "source": [
    "#Random data for logistic regression\n",
    "n_features = 4\n",
    "X = []\n",
    "for i in range(n_features):\n",
    "    X_i = scipy.stats.norm.rvs(0, 1, 100)\n",
    "    X.append(X_i)\n",
    "a1 = (np.exp(1 + (0.5 * X[0]) + (0.4 * X[1]) + (0.3 * X[2]) + (0.5 * X[3]))/(1 + np.exp(1 + (0.5 * X[0]) + (0.4 * X[1]) + (0.3 * X[2]) + (0.5 * X[3]))))\n",
    "y1 = []\n",
    "for i in a1:\n",
    "    if (i>=0.5):\n",
    "        y1.append(1)\n",
    "    else:\n",
    "        y1.append(0)\n",
    "data_lr = {'X0': X[0],'X1':X[1],'X2':X[2],'X3':X[3],'Y': y1 }\n",
    "df1 = pd.DataFrame(data_lr)\n",
    "print(df1.head())\n",
    "print(df1.tail())\n",
    "print(df1.info())\n",
    "print(df1.describe())"
   ]
  },
  {
   "cell_type": "code",
   "execution_count": 5,
   "metadata": {},
   "outputs": [
    {
     "data": {
      "image/png": "[encoded data removed]",
      "text/plain": [
       "<Figure size 432x288 with 1 Axes>"
      ]
     },
     "metadata": {
      "needs_background": "light"
     },
     "output_type": "display_data"
    },
    {
     "name": "stdout",
     "output_type": "stream",
     "text": [
      "         X0        X1\n",
      "0 -1.604496 -0.724052\n",
      "1 -0.299735 -1.934784\n",
      "2 -1.727380 -0.504722\n",
      "3 -1.328541 -1.101793\n",
      "4 -0.374533 -0.399839\n",
      "          X0        X1\n",
      "95  2.532384  2.808828\n",
      "96  2.098111  2.991747\n",
      "97  1.277226  2.052000\n",
      "98  2.786162  2.077344\n",
      "99  1.743930  2.097745\n",
      "<class 'pandas.core.frame.DataFrame'>\n",
      "RangeIndex: 100 entries, 0 to 99\n",
      "Data columns (total 2 columns):\n",
      " #   Column  Non-Null Count  Dtype  \n",
      "---  ------  --------------  -----  \n",
      " 0   X0      100 non-null    float64\n",
      " 1   X1      100 non-null    float64\n",
      "dtypes: float64(2)\n",
      "memory usage: 1.6 KB\n",
      "None\n",
      "               X0          X1\n",
      "count  100.000000  100.000000\n",
      "mean     0.588385    0.483527\n",
      "std      1.593229    1.619834\n",
      "min     -1.926393   -1.972589\n",
      "25%     -0.825171   -0.919504\n",
      "50%      0.539279    0.503931\n",
      "75%      2.049441    2.020971\n",
      "max      2.991393    2.991747\n"
     ]
    }
   ],
   "source": [
    "#Random data for K means clustering\n",
    "X_a= -2 * np.random.rand(100,2)\n",
    "X_b = 1 + 2 * np.random.rand(50,2)\n",
    "X_a[50:100, :] = X_b\n",
    "plt.scatter(X_a[ : , 0], X_a[ :, 1], s = 50)\n",
    "plt.show()\n",
    "data_kmeans = {'X0': X_a[:,0],'X1':X_a[:,1]}\n",
    "df3 = pd.DataFrame(data_kmeans)\n",
    "print(df3.head())\n",
    "print(df3.tail())\n",
    "print(df3.info())\n",
    "print(df3.describe())"
   ]
  },
  {
   "cell_type": "code",
   "execution_count": 6,
   "metadata": {},
   "outputs": [
    {
     "name": "stdout",
     "output_type": "stream",
     "text": [
      "0.06687904968548747 0.17034008183304447\n"
     ]
    }
   ],
   "source": [
    "X = df.iloc[:,0].values\n",
    "y = df.iloc[:,4].values\n",
    "b1 = 0\n",
    "b0 = 0\n",
    "l = 0.001\n",
    "epochs = 100 \n",
    "n = float(len(X))\n",
    "for i in range(epochs):\n",
    "    y_p = b1*X + b0\n",
    "    loss = np.sum(y_p - y1)**2\n",
    "    d1 = (-2/n) * sum(X * (y - y_p))\n",
    "    d0 = (-2/n) * sum(y - y_p)\n",
    "    b1 = b1 - (l*d1)\n",
    "    b0 = b0 - (l*d0)\n",
    "print(b1,b0)"
   ]
  },
  {
   "cell_type": "code",
   "execution_count": 7,
   "metadata": {},
   "outputs": [
    {
     "name": "stdout",
     "output_type": "stream",
     "text": [
      "0.6931471805599453\n",
      "0.3862786984693914\n",
      "0.38617306266251045\n",
      "0.3860697495923774\n",
      "0.38596871119230436\n",
      "0.3858699003687608\n",
      "0.38577327097736996\n",
      "0.38567877779976917\n",
      "0.38558637652130556\n",
      "0.38549602370954306\n"
     ]
    }
   ],
   "source": [
    "#Logistic regression using Gradient descent\n",
    "X1 = df1.iloc[:,0:4].values\n",
    "y1 = df1.iloc[:,4].values\n",
    "\n",
    "def sigmoid(Z):\n",
    "    return 1 /(1+np.exp(-Z))\n",
    "\n",
    "def loss(y1,y_hat):\n",
    "    return -np.mean(y1*np.log(y_hat) + (1-y1)*(np.log(1-y_hat)))\n",
    "\n",
    "W = np.zeros((4,1))\n",
    "b = np.zeros((1,1))\n",
    "m = len(y1)\n",
    "lr = 0.001\n",
    "for epoch in range(1000):\n",
    "    Z = np.matmul(X1,W)+b\n",
    "    A = sigmoid(Z)\n",
    "    logistic_loss = loss(y1,A)\n",
    "    dz = A - y1\n",
    "    dw = 1/m * np.matmul(X1.T,dz)\n",
    "    db = np.sum(dz)\n",
    "    W = W - lr*dw\n",
    "    b = b - lr*db\n",
    "    if epoch % 100 == 0:\n",
    "        print(logistic_loss)"
   ]
  },
  {
   "cell_type": "code",
   "execution_count": 8,
   "metadata": {},
   "outputs": [
    {
     "name": "stdout",
     "output_type": "stream",
     "text": [
      "0.05767534558770531 0.1703562388267472\n"
     ]
    }
   ],
   "source": [
    "X = df.iloc[:,0].values\n",
    "y = df.iloc[:,4].values\n",
    "b1 = 0\n",
    "b0 = 0\n",
    "l = 0.001\n",
    "epochs = 100\n",
    "lam = 0.1\n",
    "n = float(len(X))\n",
    "for i in range(epochs):\n",
    "    y_p = b1*X + b0\n",
    "    loss = np.sum(y_p - y1)**2 + (lam * b1)\n",
    "    d1 = (-2/n) * sum(X * (y - y_p)) + lam\n",
    "    d0 = (-2/n) * sum(y - y_p)\n",
    "    b1 = b1 - (l*d1)\n",
    "    b0 = b0 - (l*d0)\n",
    "print(b1,b0)"
   ]
  },
  {
   "cell_type": "code",
   "execution_count": 9,
   "metadata": {},
   "outputs": [
    {
     "name": "stdout",
     "output_type": "stream",
     "text": [
      "0.06655748190998914 0.17034046131891253\n"
     ]
    }
   ],
   "source": [
    "#Linear Regreesion using L2 Regularization\n",
    "X = df.iloc[:,0].values\n",
    "#print(X)\n",
    "y = df.iloc[:,4].values\n",
    "b1 = 0\n",
    "b0 = 0\n",
    "l = 0.001\n",
    "epochs = 100\n",
    "lam = 0.1 \n",
    "n = float(len(X))\n",
    "for i in range(epochs):\n",
    "    y_p = b1*X + b0\n",
    "    loss = np.sum(y_p - y1)**2 + ((lam/2) * b1)\n",
    "    d1 = (-2/n) * sum(X * (y - y_p)) + (lam *b1)\n",
    "    d0 = (-2/n) * sum(y - y_p)\n",
    "    b1 = b1 - (l*d1)\n",
    "    b0 = b0 - (l*d0)\n",
    "print(b1,b0)"
   ]
  },
  {
   "cell_type": "code",
   "execution_count": 10,
   "metadata": {},
   "outputs": [
    {
     "name": "stdout",
     "output_type": "stream",
     "text": [
      "0.6931471805599453\n",
      "-0.011179813396886729\n",
      "-0.4042830352340905\n",
      "-0.7927932054378217\n",
      "-1.1767871563787669\n",
      "-1.5563412309849716\n",
      "-1.9315311859318434\n",
      "-2.3024321052742445\n",
      "-2.669118323842517\n",
      "-3.0316633597317253\n"
     ]
    }
   ],
   "source": [
    "#Logistic regression using L1 regualrization\n",
    "X1 = df1.iloc[:,0:4].values\n",
    "y1 = df1.iloc[:,4].values\n",
    "lam = 0.1\n",
    "def sigmoid(Z):\n",
    "    return 1 /(1+np.exp(-Z))\n",
    "\n",
    "def loss(y1,y_hat):\n",
    "    return -np.mean(y1*np.log(y_hat) + (1-y1)*(np.log(1-y_hat))) + (lam * (np.sum(W)))\n",
    "\n",
    "W = np.zeros((4,1))\n",
    "b = np.zeros((1,1))\n",
    "\n",
    "m = len(y1)\n",
    "lr = 0.001\n",
    "for epoch in range(1000):\n",
    "    Z = np.matmul(X1,W)+b\n",
    "    A = sigmoid(Z)\n",
    "    logistic_loss = loss(y1,A)\n",
    "    dz = A - y1\n",
    "    dw = 1/m * np.matmul(X1.T,dz) + lam\n",
    "    db = np.sum(dz)\n",
    "    W = W - lr*dw\n",
    "    b = b - lr*db\n",
    "    if epoch % 100 == 0:\n",
    "        print(logistic_loss)"
   ]
  },
  {
   "cell_type": "code",
   "execution_count": 11,
   "metadata": {},
   "outputs": [
    {
     "name": "stdout",
     "output_type": "stream",
     "text": [
      "0.6931471805599453\n",
      "0.3863861824155553\n",
      "0.38659406506801813\n",
      "0.38699738602387324\n",
      "0.38758378941836563\n",
      "0.3883415086443134\n",
      "0.3892593410727705\n",
      "0.3903266238247662\n",
      "0.39153321054782\n",
      "0.39286944915328736\n"
     ]
    }
   ],
   "source": [
    "#Logistic regression using L2 regualrization\n",
    "X1 = df1.iloc[:,0:4].values\n",
    "y1 = df1.iloc[:,4].values\n",
    "lam = 0.1\n",
    "def sigmoid(Z):\n",
    "    return 1 /(1+np.exp(-Z))\n",
    "\n",
    "def loss(y1,y_hat):\n",
    "    return -np.mean(y1*np.log(y_hat) + (1-y1)*(np.log(1-y_hat))) + (lam * (np.sum(np.square(W))))\n",
    "\n",
    "W = np.zeros((4,1))\n",
    "b = np.zeros((1,1))\n",
    "m = len(y1)\n",
    "lr = 0.001\n",
    "for epoch in range(1000):\n",
    "    Z = np.matmul(X1,W)+b\n",
    "    A = sigmoid(Z)\n",
    "    logistic_loss = loss(y1,A)\n",
    "    dz = A - y1\n",
    "    dw = 1/m * np.matmul(X1.T,dz) + lam * W\n",
    "    db = np.sum(dz)\n",
    "    W = W - lr*dw\n",
    "    b = b - lr*db\n",
    "    if epoch % 100 == 0:\n",
    "        print(logistic_loss)"
   ]
  },
  {
   "cell_type": "code",
   "execution_count": 12,
   "metadata": {},
   "outputs": [],
   "source": [
    "#K-Means Clustering\n",
    "class K_Means:\n",
    "    def __init__(self, k=2, tol=0.001, max_iter=300):\n",
    "        self.k = k\n",
    "        self.tol = tol\n",
    "        self.max_iter = max_iter\n",
    "\n",
    "    def fit(self,data):\n",
    "        self.centroids = {}\n",
    "        for i in range(self.k):\n",
    "            self.centroids[i] = data[i]\n",
    "        for i in range(self.max_iter):\n",
    "            self.classifications = {}\n",
    "            for i in range(self.k):\n",
    "                self.classifications[i] = []\n",
    "            for featureset in X:\n",
    "                distances = [np.linalg.norm(featureset-self.centroids[centroid]) for centroid in self.centroids]\n",
    "                classification = distances.index(min(distances))\n",
    "                self.classifications[classification].append(featureset)\n",
    "            prev_centroids = dict(self.centroids)\n",
    "            for classification in self.classifications:\n",
    "                self.centroids[classification] = np.average(self.classifications[classification],axis=0)\n",
    "\n",
    "            optimized = True\n",
    "\n",
    "            for c in self.centroids:\n",
    "                original_centroid = prev_centroids[c]\n",
    "                current_centroid = self.centroids[c]\n",
    "                if np.sum((current_centroid-original_centroid)/original_centroid*100.0) > self.tol:\n",
    "                    print(np.sum((current_centroid-original_centroid)/original_centroid*100.0))\n",
    "                    optimized = False\n",
    "\n",
    "            if optimized:\n",
    "                break\n",
    "\n",
    "    def predict(self,data):\n",
    "        distances = [np.linalg.norm(data-self.centroids[centroid]) for centroid in self.centroids]\n",
    "        classification = distances.index(min(distances))\n",
    "        return classification        \n",
    "colors = 10*[\"g\",\"r\",\"c\",\"b\",\"k\"]"
   ]
  },
  {
   "cell_type": "code",
   "execution_count": 13,
   "metadata": {},
   "outputs": [
    {
     "data": {
      "image/png": "[encoded data removed]",
      "text/plain": [
       "<Figure size 432x288 with 1 Axes>"
      ]
     },
     "metadata": {
      "needs_background": "light"
     },
     "output_type": "display_data"
    }
   ],
   "source": [
    "X = df3.iloc[:,0:2].values\n",
    "clf = K_Means()\n",
    "clf.fit(X)\n",
    "\n",
    "for centroid in clf.centroids:\n",
    "    plt.scatter(clf.centroids[centroid][0], clf.centroids[centroid][1],\n",
    "                marker=\"o\", color=\"k\", s=150, linewidths=5)\n",
    "\n",
    "for classification in clf.classifications:\n",
    "    color = colors[classification]\n",
    "    for featureset in clf.classifications[classification]:\n",
    "        plt.scatter(featureset[0], featureset[1], marker=\"x\", color=color, s=150, linewidths=5)"
   ]
  },
  {
   "cell_type": "code",
   "execution_count": 16,
   "metadata": {},
   "outputs": [
    {
     "name": "stdout",
     "output_type": "stream",
     "text": [
      "Studied 10 hours and got nan points.\n",
      "Studied 20 hours and got nan points.\n",
      "Studied 30 hours and got nan points.\n",
      "Studied 40 hours and got nan points.\n",
      "Studied 50 hours and got nan points.\n",
      "Studied 60 hours and got nan points.\n",
      "Studied 70 hours and got nan points.\n",
      "Studied 80 hours and got nan points.\n",
      "Studied 90 hours and got nan points.\n",
      "Studied 100 hours and got nan points.\n",
      "Results: b: nan, m: nan, Final Total error: nan\n"
     ]
    }
   ],
   "source": [
    "#Problem Statement - 4\n",
    "#Linear Regression using OOPS\n",
    "class LinearRegressionModel():\n",
    "\n",
    "    def __init__(self, dataset, learning_rate, num_iterations):\n",
    "        self.dataset = np.array(dataset)\n",
    "        self.b = 0  \n",
    "        self.m = 0  \n",
    "        self.learning_rate = learning_rate\n",
    "        self.num_iterations = num_iterations\n",
    "        self.M = len(self.dataset)\n",
    "        self.total_error = 0\n",
    "\n",
    "    def apply_gradient_descent(self):\n",
    "        for i in range(self.num_iterations):\n",
    "            self.do_gradient_step()\n",
    "\n",
    "    def do_gradient_step(self):\n",
    "        b_summation = 0\n",
    "        m_summation = 0\n",
    "        for i in range(self.M):\n",
    "            x_value = self.dataset[i, 0]\n",
    "            y_value = self.dataset[i, 1]\n",
    "            b_summation += (((self.m * x_value) + self.b) - y_value) \n",
    "            m_summation += (((self.m * x_value) + self.b) - y_value) * x_value\n",
    "        self.b = self.b - (self.learning_rate * (1/self.M) * b_summation)\n",
    "        self.m = self.m - (self.learning_rate * (1/self.M) * m_summation)\n",
    "\n",
    "    def compute_error(self):\n",
    "        for i in range(self.M):\n",
    "            x_value = self.dataset[i, 0]\n",
    "            y_value = self.dataset[i, 1]\n",
    "            self.total_error += ((self.m * x_value) + self.b) - y_value\n",
    "        return self.total_error\n",
    "\n",
    "    def __str__(self):\n",
    "        return \"Results: b: {}, m: {}, Final Total error: {}\".format(round(self.b, 2), round(self.m, 2), round(self.compute_error(), 2))\n",
    "\n",
    "    def get_prediction_based_on(self, x):\n",
    "        return round(float((self.m * x) + self.b), 2)\n",
    "DATASET_PATH = \"WA_Fn-UseC_-HR-Employee-Attrition.csv\"    \n",
    "\n",
    "def main():\n",
    "    school_dataset = np.genfromtxt(DATASET_PATH, delimiter=\",\")\n",
    "    lr = LinearRegressionModel(school_dataset, 0.0001, 1000)\n",
    "    lr.apply_gradient_descent()\n",
    "    hours = [10, 20, 30, 40, 50, 60, 70, 80, 90, 100]\n",
    "    for hour in hours:\n",
    "        print(\"Studied {} hours and got {} points.\".format(hour, lr.get_prediction_based_on(hour)))\n",
    "    print(lr)\n",
    "\n",
    "if __name__ == \"__main__\": main()"
   ]
  },
  {
   "cell_type": "code",
   "execution_count": null,
   "metadata": {},
   "outputs": [],
   "source": [
    "#Logistic Regression using OOPS\n",
    "class LogisticRegression:\n",
    "    def __init__(self, learning_rate, num_iters, fit_intercept = True, verbose = False):\n",
    "        self.learning_rate = learning_rate\n",
    "        self.num_iters = num_iters\n",
    "        self.fit_intercept = fit_intercept\n",
    "        self.verbose = verbose\n",
    "    def __add_intercept(self, X):\n",
    "        intercept = np.ones((X.shape[0],1))\n",
    "        return np.concatenate((intercept,X),axis=1)\n",
    "\n",
    "    def __sigmoid(self,z):\n",
    "        return 1/(1+np.exp(-z))\n",
    "    \n",
    "    def __loss(self, h, y):\n",
    "        return (-y * np.log(h) - (1-y) * np.log(1-h)).mean()\n",
    "    \n",
    "    def fit(self,X,y):\n",
    "        if self.fit_intercept:\n",
    "            X = self.__add_intercept(X)\n",
    "        self.theta = np.zeros(X.shape[1])\n",
    "\n",
    "    for i in range(self.num_iters):\n",
    "        z = np.dot(X,self.theta)\n",
    "        h = self.__sigmoid(z)\n",
    "        gradient = np.dot(X.T,(h-y))/y.size\n",
    "\n",
    "        self.theta -= self.learning_rate * gradient\n",
    "\n",
    "        z = np.dot(X,self.theta)\n",
    "        h = self.__sigmoid(z)\n",
    "        loss = self.__loss(h,y)\n",
    "\n",
    "    if self.verbose == True and i % 1000 == 0:\n",
    "        print(f'Loss: {loss}\\t')\n",
    "        \n",
    "    def predict_probability(self,X):\n",
    "        if self.fit_intercept:\n",
    "            X = self.__add_intercept(X)\n",
    "        return self.__sigmoid(np.dot(X,self.theta))\n",
    "    \n",
    "    def predict(self,X):\n",
    "        return (self.predict_probability(X).round())"
   ]
  },
  {
   "cell_type": "code",
   "execution_count": null,
   "metadata": {},
   "outputs": [],
   "source": [
    "#K Means using OOPS\n",
    "class K_Means:\n",
    "    def __init__(self, k=2, tol=0.001, max_iter=300):\n",
    "        self.k = k\n",
    "        self.tol = tol\n",
    "        self.max_iter = max_iter\n",
    "\n",
    "    def fit(self,data):\n",
    "\n",
    "        self.centroids = {}\n",
    "\n",
    "        for i in range(self.k):\n",
    "            self.centroids[i] = data[i]\n",
    "\n",
    "        for i in range(self.max_iter):\n",
    "            self.classifications = {}\n",
    "\n",
    "            for i in range(self.k):\n",
    "                self.classifications[i] = []\n",
    "\n",
    "            for featureset in X:\n",
    "                distances = [np.linalg.norm(featureset-self.centroids[centroid]) for centroid in self.centroids]\n",
    "                classification = distances.index(min(distances))\n",
    "                self.classifications[classification].append(featureset)\n",
    "\n",
    "            prev_centroids = dict(self.centroids)\n",
    "\n",
    "            for classification in self.classifications:\n",
    "                self.centroids[classification] = np.average(self.classifications[classification],axis=0)\n",
    "\n",
    "            optimized = True\n",
    "\n",
    "            for c in self.centroids:\n",
    "                original_centroid = prev_centroids[c]\n",
    "                current_centroid = self.centroids[c]\n",
    "                if np.sum((current_centroid-original_centroid)/original_centroid*100.0) > self.tol:\n",
    "                    print(np.sum((current_centroid-original_centroid)/original_centroid*100.0))\n",
    "                    optimized = False\n",
    "\n",
    "            if optimized:\n",
    "                break\n",
    "\n",
    "    def predict(self,data):\n",
    "        distances = [np.linalg.norm(data-self.centroids[centroid]) for centroid in self.centroids]\n",
    "        classification = distances.index(min(distances))\n",
    "        return classification\n",
    "        \n",
    "colors = 10*[\"g\",\"r\",\"c\",\"b\",\"k\"]"
   ]
  }
 ],
 "metadata": {
  "kernelspec": {
   "display_name": "Python 3",
   "language": "python",
   "name": "python3"
  },
  "language_info": {
   "codemirror_mode": {
    "name": "ipython",
    "version": 3
   },
   "file_extension": ".py",
   "mimetype": "text/x-python",
   "name": "python",
   "nbconvert_exporter": "python",
   "pygments_lexer": "ipython3",
   "version": "3.8.3"
  }
 },
 "nbformat": 4,
 "nbformat_minor": 4
}
