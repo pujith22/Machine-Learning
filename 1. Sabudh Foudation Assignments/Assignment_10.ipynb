{
 "cells": [
  {
   "cell_type": "code",
   "execution_count": 1,
   "metadata": {},
   "outputs": [
    {
     "name": "stdout",
     "output_type": "stream",
     "text": [
      "Requirement already satisfied: numpy in c:\\users\\pujith sai kumar k\\appdata\\local\\programs\\python\\python38-32\\lib\\site-packages (1.18.5)\n",
      "Requirement already satisfied: pandas in c:\\users\\pujith sai kumar k\\appdata\\local\\programs\\python\\python38-32\\lib\\site-packages (1.0.4)\n",
      "Requirement already satisfied: pytz>=2017.2 in c:\\users\\pujith sai kumar k\\appdata\\local\\programs\\python\\python38-32\\lib\\site-packages (from pandas) (2020.1)\n",
      "Requirement already satisfied: python-dateutil>=2.6.1 in c:\\users\\pujith sai kumar k\\appdata\\local\\programs\\python\\python38-32\\lib\\site-packages (from pandas) (2.8.1)\n",
      "Requirement already satisfied: numpy>=1.13.3 in c:\\users\\pujith sai kumar k\\appdata\\local\\programs\\python\\python38-32\\lib\\site-packages (from pandas) (1.18.5)\n",
      "Requirement already satisfied: six>=1.5 in c:\\users\\pujith sai kumar k\\appdata\\local\\programs\\python\\python38-32\\lib\\site-packages (from python-dateutil>=2.6.1->pandas) (1.15.0)\n",
      "Requirement already satisfied: matplotlib in c:\\users\\pujith sai kumar k\\appdata\\local\\programs\\python\\python38-32\\lib\\site-packages (3.2.2)\n",
      "Requirement already satisfied: cycler>=0.10 in c:\\users\\pujith sai kumar k\\appdata\\local\\programs\\python\\python38-32\\lib\\site-packages (from matplotlib) (0.10.0)\n",
      "Requirement already satisfied: python-dateutil>=2.1 in c:\\users\\pujith sai kumar k\\appdata\\local\\programs\\python\\python38-32\\lib\\site-packages (from matplotlib) (2.8.1)\n",
      "Requirement already satisfied: kiwisolver>=1.0.1 in c:\\users\\pujith sai kumar k\\appdata\\local\\programs\\python\\python38-32\\lib\\site-packages (from matplotlib) (1.2.0)\n",
      "Requirement already satisfied: numpy>=1.11 in c:\\users\\pujith sai kumar k\\appdata\\local\\programs\\python\\python38-32\\lib\\site-packages (from matplotlib) (1.18.5)\n",
      "Requirement already satisfied: pyparsing!=2.0.4,!=2.1.2,!=2.1.6,>=2.0.1 in c:\\users\\pujith sai kumar k\\appdata\\local\\programs\\python\\python38-32\\lib\\site-packages (from matplotlib) (2.4.7)\n",
      "Requirement already satisfied: six in c:\\users\\pujith sai kumar k\\appdata\\local\\programs\\python\\python38-32\\lib\\site-packages (from cycler>=0.10->matplotlib) (1.15.0)\n"
     ]
    }
   ],
   "source": [
    "!pip install numpy\n",
    "!pip install pandas\n",
    "!pip install matplotlib\n",
    "\n",
    "import numpy as np\n",
    "import pandas as pd\n",
    "import matplotlib.pyplot as plt\n",
    "from matplotlib import style"
   ]
  },
  {
   "cell_type": "code",
   "execution_count": 6,
   "metadata": {},
   "outputs": [
    {
     "name": "stdout",
     "output_type": "stream",
     "text": [
      "Without biases\n",
      "1.0\n",
      "with biased probabilities as provided\n",
      "0.334\n"
     ]
    }
   ],
   "source": [
    "def dice(prob=None):\n",
    "    if not prob:\n",
    "        return np.random.choice(a=[1,2,3,4,5,6])\n",
    "    else:\n",
    "        return np.random.choice(a=[1,2,3,4,5,6],p=prob)\n",
    "           \n",
    "def move(n=100,prob=[1/6,1/6,1/6,1/6,1/6,1/6]):\n",
    "    reach=0\n",
    "    for i in range(n):\n",
    "        throws=250\n",
    "        pos=0\n",
    "        while throws:\n",
    "            throws-=1\n",
    "            curr=dice(prob)\n",
    "            if pos>60:\n",
    "                reach+=1\n",
    "                break\n",
    "                \n",
    "            if curr in {1,2}:\n",
    "                pos-=1\n",
    "            elif curr in {3,4,5}:\n",
    "                pos+=1\n",
    "            else:\n",
    "                curr=dice(prob)\n",
    "                pos+=curr\n",
    "    print(reach/n)\n",
    "\n",
    "print(\"Without biases\")\n",
    "move()\n",
    "print(\"with biased probabilities as provided\")\n",
    "move(500,[0.2,0.3,0.2,0.1,0.1,0.1])"
   ]
  },
  {
   "cell_type": "code",
   "execution_count": 3,
   "metadata": {},
   "outputs": [
    {
     "name": "stdout",
     "output_type": "stream",
     "text": [
      "Requirement already satisfied: scipy in c:\\users\\pujith sai kumar k\\appdata\\local\\programs\\python\\python38-32\\lib\\site-packages (1.5.0)\n",
      "Requirement already satisfied: numpy>=1.14.5 in c:\\users\\pujith sai kumar k\\appdata\\local\\programs\\python\\python38-32\\lib\\site-packages (from scipy) (1.18.5)\n"
     ]
    },
    {
     "name": "stderr",
     "output_type": "stream",
     "text": [
      "ERROR: Could not find a version that satisfies the requirement random (from versions: none)\n",
      "ERROR: No matching distribution found for random\n"
     ]
    },
    {
     "name": "stdout",
     "output_type": "stream",
     "text": [
      "         X0        X1        X2        X3         Y\n",
      "0 -0.722927 -0.523285 -1.104312  0.146233  0.085521\n",
      "1  0.657656 -0.462544 -0.649608 -0.098322  0.657397\n",
      "2  0.809608  1.656875 -1.643149  0.605849  2.127422\n",
      "3 -0.964665  0.777876  0.933740 -1.779115  1.143697\n",
      "4  0.664554  0.066650  0.161667  1.321304  1.811764\n",
      "          X0        X1        X2        X3         Y\n",
      "95 -0.657342  1.003349 -0.279877 -1.143762  0.831284\n",
      "96  0.698237 -0.964563  0.072479  2.263308  1.880397\n",
      "97 -0.315319 -0.132453 -1.437540 -1.715018 -0.089836\n",
      "98  1.768412 -1.538573 -1.426026 -0.802017  0.287538\n",
      "99 -0.741923  1.486105 -0.177379 -0.686191  1.118889\n",
      "<class 'pandas.core.frame.DataFrame'>\n",
      "RangeIndex: 100 entries, 0 to 99\n",
      "Data columns (total 5 columns):\n",
      " #   Column  Non-Null Count  Dtype  \n",
      "---  ------  --------------  -----  \n",
      " 0   X0      100 non-null    float64\n",
      " 1   X1      100 non-null    float64\n",
      " 2   X2      100 non-null    float64\n",
      " 3   X3      100 non-null    float64\n",
      " 4   Y       100 non-null    float64\n",
      "dtypes: float64(5)\n",
      "memory usage: 4.0 KB\n",
      "None\n",
      "               X0          X1          X2          X3           Y\n",
      "count  100.000000  100.000000  100.000000  100.000000  100.000000\n",
      "mean     0.018401   -0.016540    0.012276   -0.202395    0.939506\n",
      "std      0.926218    1.094544    0.968810    1.071860    0.886917\n",
      "min     -1.874390   -3.261148   -1.857723   -2.901285   -1.001794\n",
      "25%     -0.647169   -0.673629   -0.650976   -0.888864    0.329536\n",
      "50%     -0.024079   -0.045552   -0.029995   -0.145110    0.922443\n",
      "75%      0.668892    0.697904    0.607652    0.522868    1.487925\n",
      "max      2.567626    2.709694    2.628505    2.311576    3.304956\n"
     ]
    }
   ],
   "source": [
    "!pip install scipy\n",
    "!pip install random\n",
    "import scipy\n",
    "import random\n",
    "from scipy.stats import norm\n",
    "random.seed(1)\n",
    "features = 4\n",
    "X = []\n",
    "for i in range(features):\n",
    "    X_i = scipy.stats.norm.rvs(0, 1, 100)\n",
    "    X.append(X_i)\n",
    "#print(X)\n",
    "eps = scipy.stats.norm.rvs(0, 0.25,100)\n",
    "y = 1 + (0.4 * X[0]) + eps + (0.5 * X[1]) + (0.3 * X[2]) + (0.4 * X[3])\n",
    "data_mlr = {'X0': X[0],'X1':X[1],'X2':X[2],'X3':X[3],'Y': y }\n",
    "df = pd.DataFrame(data_mlr)\n",
    "print(df.head())\n",
    "print(df.tail())\n",
    "print(df.info())\n",
    "print(df.describe())"
   ]
  },
  {
   "cell_type": "code",
   "execution_count": 7,
   "metadata": {},
   "outputs": [
    {
     "name": "stdout",
     "output_type": "stream",
     "text": [
      "         X0        X1        X2        X3  Y\n",
      "0 -0.736985  0.596256 -1.264403  0.392465  1\n",
      "1  0.860155 -0.230477 -0.842034 -0.157419  1\n",
      "2 -0.053955 -0.954148  1.415009 -0.651456  1\n",
      "3  0.443655  1.077553 -0.892419 -0.484425  1\n",
      "4  1.394926 -1.576136 -0.589418 -0.374063  1\n",
      "          X0        X1        X2        X3  Y\n",
      "95 -0.159508  1.077048  0.318378  0.448777  1\n",
      "96  0.131209 -2.417938  0.044111 -0.552741  0\n",
      "97 -0.085525  1.149358  0.573615 -1.717836  1\n",
      "98  0.163191  0.112288 -0.378375  1.150281  1\n",
      "99  0.815715  0.050121 -0.805144  0.741682  1\n",
      "<class 'pandas.core.frame.DataFrame'>\n",
      "RangeIndex: 100 entries, 0 to 99\n",
      "Data columns (total 5 columns):\n",
      " #   Column  Non-Null Count  Dtype  \n",
      "---  ------  --------------  -----  \n",
      " 0   X0      100 non-null    float64\n",
      " 1   X1      100 non-null    float64\n",
      " 2   X2      100 non-null    float64\n",
      " 3   X3      100 non-null    float64\n",
      " 4   Y       100 non-null    int64  \n",
      "dtypes: float64(4), int64(1)\n",
      "memory usage: 4.0 KB\n",
      "None\n",
      "               X0          X1          X2          X3           Y\n",
      "count  100.000000  100.000000  100.000000  100.000000  100.000000\n",
      "mean    -0.007298   -0.159489    0.012171   -0.237342    0.830000\n",
      "std      1.073332    0.982617    0.886421    0.965257    0.377525\n",
      "min     -2.794718   -2.417938   -1.755849   -2.589851    0.000000\n",
      "25%     -0.649567   -0.883221   -0.681751   -0.934279    1.000000\n",
      "50%      0.037961   -0.254274    0.011104   -0.235445    1.000000\n",
      "75%      0.860583    0.596927    0.529517    0.393123    1.000000\n",
      "max      2.587273    2.512263    2.321678    2.474979    1.000000\n"
     ]
    }
   ],
   "source": [
    "#Random data for logistic regression\n",
    "n_features = 4\n",
    "X = []\n",
    "for i in range(n_features):\n",
    "    X_i = scipy.stats.norm.rvs(0, 1, 100)\n",
    "    X.append(X_i)\n",
    "a1 = (np.exp(1 + (0.5 * X[0]) + (0.4 * X[1]) + (0.3 * X[2]) + (0.5 * X[3]))/(1 + np.exp(1 + (0.5 * X[0]) + (0.4 * X[1]) + (0.3 * X[2]) + (0.5 * X[3]))))\n",
    "y1 = []\n",
    "for i in a1:\n",
    "    if (i>=0.5):\n",
    "        y1.append(1)\n",
    "    else:\n",
    "        y1.append(0)\n",
    "data_lr = {'X0': X[0],'X1':X[1],'X2':X[2],'X3':X[3],'Y': y1 }\n",
    "df1 = pd.DataFrame(data_lr)\n",
    "print(df1.head())\n",
    "print(df1.tail())\n",
    "print(df1.info())\n",
    "print(df1.describe())"
   ]
  },
  {
   "cell_type": "code",
   "execution_count": 22,
   "metadata": {},
   "outputs": [
    {
     "data": {
      "image/png": "[encoded data removed]",
      "text/plain": [
       "<Figure size 432x288 with 1 Axes>"
      ]
     },
     "metadata": {
      "needs_background": "light"
     },
     "output_type": "display_data"
    },
    {
     "name": "stdout",
     "output_type": "stream",
     "text": [
      "         X0        X1\n",
      "0 -1.604496 -0.724052\n",
      "1 -0.299735 -1.934784\n",
      "2 -1.727380 -0.504722\n",
      "3 -1.328541 -1.101793\n",
      "4 -0.374533 -0.399839\n",
      "          X0        X1\n",
      "95  2.532384  2.808828\n",
      "96  2.098111  2.991747\n",
      "97  1.277226  2.052000\n",
      "98  2.786162  2.077344\n",
      "99  1.743930  2.097745\n",
      "<class 'pandas.core.frame.DataFrame'>\n",
      "RangeIndex: 100 entries, 0 to 99\n",
      "Data columns (total 2 columns):\n",
      " #   Column  Non-Null Count  Dtype  \n",
      "---  ------  --------------  -----  \n",
      " 0   X0      100 non-null    float64\n",
      " 1   X1      100 non-null    float64\n",
      "dtypes: float64(2)\n",
      "memory usage: 1.6 KB\n",
      "None\n",
      "               X0          X1\n",
      "count  100.000000  100.000000\n",
      "mean     0.588385    0.483527\n",
      "std      1.593229    1.619834\n",
      "min     -1.926393   -1.972589\n",
      "25%     -0.825171   -0.919504\n",
      "50%      0.539279    0.503931\n",
      "75%      2.049441    2.020971\n",
      "max      2.991393    2.991747\n"
     ]
    }
   ],
   "source": [
    "#Random data for K means clustering\n",
    "X_a= -2 * np.random.rand(100,2)\n",
    "X_b = 1 + 2 * np.random.rand(50,2)\n",
    "X_a[50:100, :] = X_b\n",
    "plt.scatter(X_a[ : , 0], X_a[ :, 1], s = 50)\n",
    "plt.show()\n",
    "data_kmeans = {'X0': X_a[:,0],'X1':X_a[:,1]}\n",
    "df3 = pd.DataFrame(data_kmeans)\n",
    "print(df3.head())\n",
    "print(df3.tail())\n",
    "print(df3.info())\n",
    "print(df3.describe())"
   ]
  },
  {
   "cell_type": "code",
   "execution_count": 8,
   "metadata": {},
   "outputs": [
    {
     "name": "stdout",
     "output_type": "stream",
     "text": [
      "0.06687904968548747 0.17034008183304447\n"
     ]
    }
   ],
   "source": [
    "X = df.iloc[:,0].values\n",
    "y = df.iloc[:,4].values\n",
    "b1 = 0\n",
    "b0 = 0\n",
    "l = 0.001\n",
    "epochs = 100 \n",
    "n = float(len(X))\n",
    "for i in range(epochs):\n",
    "    y_p = b1*X + b0\n",
    "    loss = np.sum(y_p - y1)**2\n",
    "    d1 = (-2/n) * sum(X * (y - y_p))\n",
    "    d0 = (-2/n) * sum(y - y_p)\n",
    "    b1 = b1 - (l*d1)\n",
    "    b0 = b0 - (l*d0)\n",
    "print(b1,b0)"
   ]
  },
  {
   "cell_type": "code",
   "execution_count": 9,
   "metadata": {},
   "outputs": [
    {
     "name": "stdout",
     "output_type": "stream",
     "text": [
      "0.6931471805599453\n",
      "0.4547485506591961\n",
      "0.45364832770035884\n",
      "0.45258462533105065\n",
      "0.45155652591009804\n",
      "0.4505631116886625\n",
      "0.44960346564471476\n",
      "0.4486766724546031\n",
      "0.44778181958365515\n",
      "0.4469179984748068\n"
     ]
    }
   ],
   "source": [
    "#Logistic regression using Gradient descent\n",
    "X1 = df1.iloc[:,0:4].values\n",
    "y1 = df1.iloc[:,4].values\n",
    "\n",
    "def sigmoid(Z):\n",
    "    return 1 /(1+np.exp(-Z))\n",
    "\n",
    "def loss(y1,y_hat):\n",
    "    return -np.mean(y1*np.log(y_hat) + (1-y1)*(np.log(1-y_hat)))\n",
    "\n",
    "W = np.zeros((4,1))\n",
    "b = np.zeros((1,1))\n",
    "m = len(y1)\n",
    "lr = 0.001\n",
    "for epoch in range(1000):\n",
    "    Z = np.matmul(X1,W)+b\n",
    "    A = sigmoid(Z)\n",
    "    logistic_loss = loss(y1,A)\n",
    "    dz = A - y1\n",
    "    dw = 1/m * np.matmul(X1.T,dz)\n",
    "    db = np.sum(dz)\n",
    "    W = W - lr*dw\n",
    "    b = b - lr*db\n",
    "    if epoch % 100 == 0:\n",
    "        print(logistic_loss)"
   ]
  },
  {
   "cell_type": "code",
   "execution_count": 10,
   "metadata": {},
   "outputs": [
    {
     "name": "stdout",
     "output_type": "stream",
     "text": [
      "0.05767534558770531 0.1703562388267472\n"
     ]
    }
   ],
   "source": [
    "X = df.iloc[:,0].values\n",
    "y = df.iloc[:,4].values\n",
    "b1 = 0\n",
    "b0 = 0\n",
    "l = 0.001\n",
    "epochs = 100\n",
    "lam = 0.1\n",
    "n = float(len(X))\n",
    "for i in range(epochs):\n",
    "    y_p = b1*X + b0\n",
    "    loss = np.sum(y_p - y1)**2 + (lam * b1)\n",
    "    d1 = (-2/n) * sum(X * (y - y_p)) + lam\n",
    "    d0 = (-2/n) * sum(y - y_p)\n",
    "    b1 = b1 - (l*d1)\n",
    "    b0 = b0 - (l*d0)\n",
    "print(b1,b0)"
   ]
  },
  {
   "cell_type": "code",
   "execution_count": 11,
   "metadata": {},
   "outputs": [
    {
     "name": "stdout",
     "output_type": "stream",
     "text": [
      "0.06655748190998914 0.17034046131891253\n"
     ]
    }
   ],
   "source": [
    "#Linear Regreesion using L2 Regularization\n",
    "X = df.iloc[:,0].values\n",
    "#print(X)\n",
    "y = df.iloc[:,4].values\n",
    "b1 = 0\n",
    "b0 = 0\n",
    "l = 0.001\n",
    "epochs = 100\n",
    "lam = 0.1 \n",
    "n = float(len(X))\n",
    "for i in range(epochs):\n",
    "    y_p = b1*X + b0\n",
    "    loss = np.sum(y_p - y1)**2 + ((lam/2) * b1)\n",
    "    d1 = (-2/n) * sum(X * (y - y_p)) + (lam *b1)\n",
    "    d0 = (-2/n) * sum(y - y_p)\n",
    "    b1 = b1 - (l*d1)\n",
    "    b0 = b0 - (l*d0)\n",
    "print(b1,b0)"
   ]
  },
  {
   "cell_type": "code",
   "execution_count": 12,
   "metadata": {},
   "outputs": [
    {
     "name": "stdout",
     "output_type": "stream",
     "text": [
      "0.6931471805599453\n",
      "0.056317358540091456\n",
      "-0.33823003526421574\n",
      "-0.7284461316309341\n",
      "-1.1143992077750506\n",
      "-1.4961576292443026\n",
      "-1.873789716176981\n",
      "-2.2473636196146076\n",
      "-2.6169472077223945\n",
      "-2.982607961699157\n"
     ]
    }
   ],
   "source": [
    "#Logistic regression using L1 regualrization\n",
    "X1 = df1.iloc[:,0:4].values\n",
    "y1 = df1.iloc[:,4].values\n",
    "lam = 0.1\n",
    "def sigmoid(Z):\n",
    "    return 1 /(1+np.exp(-Z))\n",
    "\n",
    "def loss(y1,y_hat):\n",
    "    return -np.mean(y1*np.log(y_hat) + (1-y1)*(np.log(1-y_hat))) + (lam * (np.sum(W)))\n",
    "\n",
    "W = np.zeros((4,1))\n",
    "b = np.zeros((1,1))\n",
    "\n",
    "m = len(y1)\n",
    "lr = 0.001\n",
    "for epoch in range(1000):\n",
    "    Z = np.matmul(X1,W)+b\n",
    "    A = sigmoid(Z)\n",
    "    logistic_loss = loss(y1,A)\n",
    "    dz = A - y1\n",
    "    dw = 1/m * np.matmul(X1.T,dz) + lam\n",
    "    db = np.sum(dz)\n",
    "    W = W - lr*dw\n",
    "    b = b - lr*db\n",
    "    if epoch % 100 == 0:\n",
    "        print(logistic_loss)"
   ]
  },
  {
   "cell_type": "code",
   "execution_count": 13,
   "metadata": {},
   "outputs": [
    {
     "name": "stdout",
     "output_type": "stream",
     "text": [
      "0.6931471805599453\n",
      "0.455880684289883\n",
      "0.4580581275064379\n",
      "0.4622466883118546\n",
      "0.4682838417047847\n",
      "0.4760160729264939\n",
      "0.4852985438625106\n",
      "0.49599476308122104\n",
      "0.5079762592023864\n",
      "0.5211222575028993\n"
     ]
    }
   ],
   "source": [
    "#Logistic regression using L2 regualrization\n",
    "X1 = df1.iloc[:,0:4].values\n",
    "y1 = df1.iloc[:,4].values\n",
    "lam = 0.1\n",
    "def sigmoid(Z):\n",
    "    return 1 /(1+np.exp(-Z))\n",
    "\n",
    "def loss(y1,y_hat):\n",
    "    return -np.mean(y1*np.log(y_hat) + (1-y1)*(np.log(1-y_hat))) + (lam * (np.sum(np.square(W))))\n",
    "\n",
    "W = np.zeros((4,1))\n",
    "b = np.zeros((1,1))\n",
    "m = len(y1)\n",
    "lr = 0.001\n",
    "for epoch in range(1000):\n",
    "    Z = np.matmul(X1,W)+b\n",
    "    A = sigmoid(Z)\n",
    "    logistic_loss = loss(y1,A)\n",
    "    dz = A - y1\n",
    "    dw = 1/m * np.matmul(X1.T,dz) + lam * W\n",
    "    db = np.sum(dz)\n",
    "    W = W - lr*dw\n",
    "    b = b - lr*db\n",
    "    if epoch % 100 == 0:\n",
    "        print(logistic_loss)"
   ]
  },
  {
   "cell_type": "code",
   "execution_count": 25,
   "metadata": {},
   "outputs": [],
   "source": [
    "import math\n",
    "class KmeansClustering:\n",
    "    def __init__(self):\n",
    "        pass\n",
    "\n",
    "    def generatedata(self):\n",
    "        X1 = -3 * np.random.rand(100,2)\n",
    "        X2 = 1 + 3 * np.random.rand(50,2)\n",
    "        X1[50:100, :] = X2\n",
    "        self.X = X1[:,0]\n",
    "        self.Y = X1[:,1]\n",
    "        plt.scatter(self.X, self.Y, s = 50,c='b')\n",
    "        plt.show()\n",
    "        print(len(self.X))\n",
    "        print(len(self.Y))\n",
    "\n",
    "    def distance(self,a,b):\n",
    "        return math.sqrt((a[0]-b[0])**2 + (a[1]-b[1])**2)\n",
    "\n",
    "    def cluster(self,k = 2,iters = 50):\n",
    "        data = list(zip(self.X,self.Y))\n",
    "        centroids = data[:k]\n",
    "        print(\"initial\")\n",
    "        print(centroids)\n",
    "        for iter in range(iters):\n",
    "            c = [ [] for i in range(k)]\n",
    "            for xs,ys in zip(self.X,self.Y):\n",
    "                clust = 0\n",
    "                min = -1\n",
    "                i = 0\n",
    "                flag = 0\n",
    "                for d in centroids:\n",
    "                    if(flag==0):\n",
    "                        min = self.distance((xs,ys),d)\n",
    "                        flag = 1\n",
    "                    else:\n",
    "                        d = self.distance((xs,ys),d)\n",
    "                        if(min>d):\n",
    "                            clust = i\n",
    "                            min = d         \n",
    "                    i+=1\n",
    "                c[clust].append([xs,ys])\n",
    "\n",
    "            for i in range(len(c)):\n",
    "                xp = sum(np.array(c[i])[:,0])/len(c[i])\n",
    "                yp = sum(np.array(c[i])[:,1])/len(c[i])\n",
    "                centroids[i] = [xp,yp]\n",
    "\n",
    "        print(centroids)\n",
    "        centroids = np.array(centroids)\n",
    "        plt.scatter(self.X, self.Y, s = 20,c='b')\n",
    "        plt.scatter(centroids[:,0],centroids[:,1],s=60,c='r')\n",
    "        self.cents = centroids\n",
    "\n",
    "    def predict(self,Xs):\n",
    "        for xs,ys in Xs:\n",
    "            clust = 0\n",
    "            min = -1\n",
    "            i = 0\n",
    "            flag = 0\n",
    "            for d in self.cents:\n",
    "                if(flag==0):\n",
    "                    min = self.distance((xs,ys),d)\n",
    "                    flag = 1\n",
    "                else:\n",
    "                    d = self.distance((xs,ys),d)\n",
    "                    if(min>d):\n",
    "                        clust = i\n",
    "                        min = d\n",
    "\n",
    "                i+=1\n",
    "            print(clust)"
   ]
  },
  {
   "cell_type": "code",
   "execution_count": 26,
   "metadata": {},
   "outputs": [
    {
     "data": {
      "image/png": "[encoded data removed]",
      "text/plain": [
       "<Figure size 432x288 with 1 Axes>"
      ]
     },
     "metadata": {
      "needs_background": "light"
     },
     "output_type": "display_data"
    },
    {
     "name": "stdout",
     "output_type": "stream",
     "text": [
      "100\n",
      "100\n",
      "initial\n",
      "[(-0.40785253222275186, -1.2784440470909453), (-1.3329239440226681, -2.3644306434404467), (-0.33644796916026687, -1.8631626018321379)]\n",
      "[[2.3144393057268506, 2.315100559361697], [-2.1064923908298065, -1.774693702454741], [-0.6606965103310257, -1.4416490202253176]]\n",
      "0\n",
      "0\n",
      "2\n"
     ]
    },
    {
     "data": {
      "image/png": "[encoded data removed]",
      "text/plain": [
       "<Figure size 432x288 with 1 Axes>"
      ]
     },
     "metadata": {
      "needs_background": "light"
     },
     "output_type": "display_data"
    }
   ],
   "source": [
    "model = KmeansClustering()\n",
    "model.generatedata()\n",
    "model.cluster(k=3,iters=30)\n",
    "model.predict([[-1,2],[2,2],[-1,-1]])"
   ]
  }
 ],
 "metadata": {
  "kernelspec": {
   "display_name": "Python 3",
   "language": "python",
   "name": "python3"
  },
  "language_info": {
   "codemirror_mode": {
    "name": "ipython",
    "version": 3
   },
   "file_extension": ".py",
   "mimetype": "text/x-python",
   "name": "python",
   "nbconvert_exporter": "python",
   "pygments_lexer": "ipython3",
   "version": "3.8.3"
  }
 },
 "nbformat": 4,
 "nbformat_minor": 4
}
