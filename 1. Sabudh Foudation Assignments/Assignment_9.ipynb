{
 "cells": [
  {
   "cell_type": "code",
   "execution_count": 11,
   "metadata": {},
   "outputs": [
    {
     "name": "stdout",
     "output_type": "stream",
     "text": [
      "Requirement already satisfied: numpy in c:\\users\\pujith sai kumar k\\appdata\\local\\programs\\python\\python38-32\\lib\\site-packages (1.18.5)\n",
      "Requirement already satisfied: pandas in c:\\users\\pujith sai kumar k\\appdata\\local\\programs\\python\\python38-32\\lib\\site-packages (1.0.4)\n",
      "Requirement already satisfied: python-dateutil>=2.6.1 in c:\\users\\pujith sai kumar k\\appdata\\local\\programs\\python\\python38-32\\lib\\site-packages (from pandas) (2.8.1)\n",
      "Requirement already satisfied: numpy>=1.13.3 in c:\\users\\pujith sai kumar k\\appdata\\local\\programs\\python\\python38-32\\lib\\site-packages (from pandas) (1.18.5)\n",
      "Requirement already satisfied: pytz>=2017.2 in c:\\users\\pujith sai kumar k\\appdata\\local\\programs\\python\\python38-32\\lib\\site-packages (from pandas) (2020.1)\n",
      "Requirement already satisfied: six>=1.5 in c:\\users\\pujith sai kumar k\\appdata\\local\\programs\\python\\python38-32\\lib\\site-packages (from python-dateutil>=2.6.1->pandas) (1.15.0)\n",
      "Requirement already satisfied: sklearn in c:\\users\\pujith sai kumar k\\appdata\\local\\programs\\python\\python38-32\\lib\\site-packages (0.0)\n",
      "Requirement already satisfied: scikit-learn in c:\\users\\pujith sai kumar k\\appdata\\local\\programs\\python\\python38-32\\lib\\site-packages (from sklearn) (0.23.1)\n",
      "Requirement already satisfied: scipy>=0.19.1 in c:\\users\\pujith sai kumar k\\appdata\\local\\programs\\python\\python38-32\\lib\\site-packages (from scikit-learn->sklearn) (1.5.0)\n",
      "Requirement already satisfied: joblib>=0.11 in c:\\users\\pujith sai kumar k\\appdata\\local\\programs\\python\\python38-32\\lib\\site-packages (from scikit-learn->sklearn) (0.15.1)\n",
      "Requirement already satisfied: threadpoolctl>=2.0.0 in c:\\users\\pujith sai kumar k\\appdata\\local\\programs\\python\\python38-32\\lib\\site-packages (from scikit-learn->sklearn) (2.1.0)\n",
      "Requirement already satisfied: numpy>=1.13.3 in c:\\users\\pujith sai kumar k\\appdata\\local\\programs\\python\\python38-32\\lib\\site-packages (from scikit-learn->sklearn) (1.18.5)\n"
     ]
    }
   ],
   "source": [
    "!pip install numpy\n",
    "!pip install pandas\n",
    "!pip install sklearn\n",
    "import pandas as pd\n",
    "import numpy as np"
   ]
  },
  {
   "cell_type": "code",
   "execution_count": 14,
   "metadata": {},
   "outputs": [
    {
     "name": "stdout",
     "output_type": "stream",
     "text": [
      "(10000, 785)\n",
      "x_train Shape: (8000, 784)\n",
      "y_train Shape: (8000, 10)\n",
      "x_test Shape: (2000, 784)\n",
      "y_test Shape: (2000, 10)\n",
      "(8000, 10)\n",
      "(2000, 784)\n",
      "(2000, 10)\n"
     ]
    }
   ],
   "source": [
    "file = \"mnist_train.csv\"\n",
    "data = pd.read_csv(file,header=None)\n",
    "data.head()\n",
    "print(data.shape)\n",
    "# for splitting data for training and testing.\n",
    "from sklearn.model_selection import train_test_split\n",
    "x_train,x_test,y_train,y_test = train_test_split(data.drop([784],axis=1),data[784],test_size=0.2,random_state=42)\n",
    "y_train = pd.get_dummies(y_train).values\n",
    "y_test = pd.get_dummies(y_test).values\n",
    "print(\"x_train Shape: {}\".format(x_train.shape))\n",
    "print(\"y_train Shape: {}\".format(y_train.shape))\n",
    "print(\"x_test Shape: {}\".format(x_test.shape))\n",
    "print(\"y_test Shape: {}\".format(y_test.shape))\n",
    "print(y_train.shape)\n",
    "print(x_test.shape)\n",
    "print(y_test.shape)"
   ]
  },
  {
   "cell_type": "code",
   "execution_count": 15,
   "metadata": {},
   "outputs": [],
   "source": [
    "#sigmoid and softmax function definitions\n",
    "def sigmoid(x):\n",
    "    return 1/(1+np.exp(-x))\n",
    "def softmax(x):\n",
    "    return np.exp(x)/sum(np.exp(x))"
   ]
  },
  {
   "cell_type": "code",
   "execution_count": 16,
   "metadata": {},
   "outputs": [
    {
     "name": "stderr",
     "output_type": "stream",
     "text": [
      "<ipython-input-15-dccb36cc58c7>:3: RuntimeWarning: overflow encountered in exp\n",
      "  return 1/(1+np.exp(-x))\n"
     ]
    },
    {
     "name": "stdout",
     "output_type": "stream",
     "text": [
      "82.625\n"
     ]
    }
   ],
   "source": [
    "def update_weights_perceptron(X, Y, W, b, lr):\n",
    "    m = 784\n",
    "    Yp = sigmoid(np.dot(X,W)+b)\n",
    "    dE = (Y-Yp)\n",
    "    dW = (1/m)*X.T.dot(dE)\n",
    "    db = np.sum(dE)\n",
    "    W = W+(dW*lr)\n",
    "    b = b+(db*lr)\n",
    "    return W, b\n",
    "\n",
    "W = np.random.randn(784,10)\n",
    "b = np.random.randn(10)\n",
    "epochs = 100\n",
    "for i in range(epochs):\n",
    "    W,b = update_weights_perceptron(x_train,y_train,W,b,0.01)\n",
    "\n",
    "pred = sigmoid(np.dot(x_train,W)+b)\n",
    "\n",
    "from sklearn.metrics import accuracy_score\n",
    "p = np.argmax(pred,axis=1)\n",
    "t = np.argmax(y_train,axis=1)\n",
    "print(accuracy_score(t,p)*100)\n"
   ]
  },
  {
   "cell_type": "code",
   "execution_count": 17,
   "metadata": {},
   "outputs": [],
   "source": [
    "#One hidden Layer\n",
    "def update_weights_percept(X, Y, W, b, lr):\n",
    "    A = sigmoid(np.dot(X,W[0])+b[0])\n",
    "    Yp= sigmoid(np.dot(A,W[1])+b[1])\n",
    "\n",
    "    dW2 = (Y-Yp)\n",
    "    dW1 = dW2.dot(W[1].T)\n",
    "\n",
    "    db2 = np.sum(dW2)\n",
    "    db1 = db2*(b[1])\n",
    "\n",
    "    W2 = W[1]+(A.T.dot(dW2)*lr)\n",
    "    W1 = W[0]+(X.T.dot(dW1)*lr)\n",
    "\n",
    "    b2 = b[1]+(db2*lr)\n",
    "    b1 = b[0]+(db1*lr)\n",
    "    return W1,W2,b1,b2\n",
    "\n",
    "def model(N,x_train,y_train):\n",
    "    W1 = np.random.randn(784,N)\n",
    "    b1 = np.random.randn(N)\n",
    "    W2 = np.random.randn(N,10)\n",
    "    b2 = np.random.randn(10)\n",
    "\n",
    "    W = [W1,W2]\n",
    "    b = [b1,b2]\n",
    "    epochs = 1000\n",
    "    for i in range(epochs):\n",
    "        W[0],W[1],b[0],b[1] = update_weights_percept(x_train,y_train,W,b,0.001)\n",
    "\n",
    "    A = sigmoid(np.dot(x_train,W[0])+b[0])\n",
    "    Yp= sigmoid(np.dot(A,W[1])+b[1])\n",
    "\n",
    "    pred = Yp\n",
    "\n",
    "    p = np.argmax(pred,axis=1)\n",
    "    t = np.argmax(y_train,axis=1)\n",
    "    print(\"accuracy : \",accuracy_score(t,p)*100)"
   ]
  },
  {
   "cell_type": "code",
   "execution_count": 18,
   "metadata": {},
   "outputs": [
    {
     "name": "stderr",
     "output_type": "stream",
     "text": [
      "<ipython-input-15-dccb36cc58c7>:3: RuntimeWarning: overflow encountered in exp\n",
      "  return 1/(1+np.exp(-x))\n"
     ]
    },
    {
     "name": "stdout",
     "output_type": "stream",
     "text": [
      "accuracy :  37.7875\n"
     ]
    }
   ],
   "source": [
    "model(10,x_train,y_train)"
   ]
  },
  {
   "cell_type": "code",
   "execution_count": 19,
   "metadata": {},
   "outputs": [],
   "source": [
    "#Double hidden Layer\n",
    "def update_weights_percept_double(X, Y, W, b, lr):\n",
    "    A = sigmoid(np.dot(X,W[0])+b[0])\n",
    "    B = sigmoid(np.dot(A,W[1])+b[1])\n",
    "    Yp= sigmoid(np.dot(B,W[2])+b[2])\n",
    "\n",
    "    dW3 = (Y-Yp)\n",
    "    dW2 = dW3.dot(W[2].T)\n",
    "    dW1 = dW2.dot(W[1].T)\n",
    "\n",
    "    db3 = np.sum(dW3)\n",
    "    db2 = np.sum(db3*(b[1]))\n",
    "    db1 = np.sum(db2*(b[0]))\n",
    "\n",
    "    W3 = W[2]+(B.T.dot(dW3)*lr)\n",
    "    W2 = W[1]+(A.T.dot(dW2)*lr)\n",
    "    W1 = W[0]+(X.T.dot(dW1)*lr)\n",
    "\n",
    "    b3 = b[2]+(db3*lr)\n",
    "    b2 = b[1]+(db2*lr)\n",
    "    b1 = b[0]+(db1*lr)\n",
    "    return W1,W2,W3,b1,b2,b3\n",
    "\n",
    "def model(N,x_train,y_train):\n",
    "    W1 = np.random.randn(784,N)\n",
    "    b1 = np.random.randn(N)\n",
    "    W2 = np.random.randn(N,N)\n",
    "    b2 = np.random.randn(N)\n",
    "    W3 = np.random.randn(N,10)\n",
    "    b3 = np.random.randn(10)\n",
    "\n",
    "    W = [W1,W2,W3]\n",
    "    b = [b1,b2,b3]\n",
    "    epochs = 100\n",
    "    for i in range(epochs):\n",
    "        W[0],W[1],W[2],b[0],b[1],b[2] = update_weights_percept_double(x_train,y_train,W,b,0.001)\n",
    "\n",
    "    A = sigmoid(np.dot(x_train,W[0])+b[0])\n",
    "    B = sigmoid(np.dot(A,W[1])+b[1])\n",
    "    Yp= sigmoid(np.dot(B,W[2])+b[2])\n",
    "\n",
    "    pred = Yp\n",
    "\n",
    "    p = np.argmax(pred,axis=1)\n",
    "    t = np.argmax(y_train,axis=1)\n",
    "    print(accuracy_score(t,p)*100)"
   ]
  },
  {
   "cell_type": "code",
   "execution_count": 20,
   "metadata": {},
   "outputs": [
    {
     "name": "stderr",
     "output_type": "stream",
     "text": [
      "<ipython-input-15-dccb36cc58c7>:3: RuntimeWarning: overflow encountered in exp\n",
      "  return 1/(1+np.exp(-x))\n",
      "<ipython-input-19-bdf142071a0f>:13: RuntimeWarning: overflow encountered in multiply\n",
      "  db1 = np.sum(db2*(b[0]))\n",
      "<ipython-input-19-bdf142071a0f>:21: RuntimeWarning: invalid value encountered in add\n",
      "  b1 = b[0]+(db1*lr)\n"
     ]
    },
    {
     "name": "stdout",
     "output_type": "stream",
     "text": [
      "9.925\n"
     ]
    }
   ],
   "source": [
    "model(10,x_train,y_train)"
   ]
  },
  {
   "cell_type": "code",
   "execution_count": 21,
   "metadata": {},
   "outputs": [],
   "source": [
    "def update_weights_momentum(X, Y, W, b, lr,beta,i,V):\n",
    "    m = 784\n",
    "    Yp = sigmoid(np.dot(X,W)+b)\n",
    "    #weight gradients\n",
    "    dE = (Y-Yp)\n",
    "    dW = (1/m)*X.T.dot(dE)\n",
    "    db = np.sum(dE)\n",
    "    #Average of exponential weighted gradients\n",
    "    if(i==0):\n",
    "        V = dW*lr\n",
    "    else:\n",
    "        V = beta*V+(dW*lr)\n",
    "    W = W+V\n",
    "    b = b+db\n",
    "    return W,b,V"
   ]
  },
  {
   "cell_type": "code",
   "execution_count": 22,
   "metadata": {},
   "outputs": [
    {
     "name": "stderr",
     "output_type": "stream",
     "text": [
      "<ipython-input-15-dccb36cc58c7>:3: RuntimeWarning: overflow encountered in exp\n",
      "  return 1/(1+np.exp(-x))\n"
     ]
    }
   ],
   "source": [
    "W = np.random.randn(784,10)\n",
    "b = np.random.randn(10)\n",
    "#co-efficient of momentum\n",
    "epochs = 100\n",
    "beta = 0.9\n",
    "V = []\n",
    "for i in range(epochs):\n",
    "    W,b,V = update_weights_momentum(x_train,y_train,W,b,0.01,beta,i,V)\n",
    "pred = sigmoid(np.dot(x_train,W)+b)"
   ]
  },
  {
   "cell_type": "code",
   "execution_count": 23,
   "metadata": {},
   "outputs": [
    {
     "name": "stdout",
     "output_type": "stream",
     "text": [
      "accuracy :  86.4375\n"
     ]
    }
   ],
   "source": [
    "p = np.argmax(pred,axis=1)\n",
    "t = np.argmax(y_train,axis=1)\n",
    "print(\"accuracy : \",accuracy_score(t,p)*100)"
   ]
  },
  {
   "cell_type": "code",
   "execution_count": 24,
   "metadata": {},
   "outputs": [],
   "source": [
    "def relu(x):\n",
    "    return np.maximum(0,x)\n",
    "\n",
    "def tanh(x):\n",
    "    return np.tanh(x)\n",
    "\n",
    "def reluDerivative(x):\n",
    "    x[x<=0] = 0\n",
    "    x[x>0] = 1\n",
    "    return x\n",
    "\n",
    "def update_weights_perceptron(X, Y, W, b, lr,activation):\n",
    "    m = 784\n",
    "    if(activation=='relu'):\n",
    "        Yp = relu(np.dot(X,W)+b)\n",
    "        dE = (Y-Yp)*reluDerivative(Yp)\n",
    "        dW = (1/m)*X.T.dot(dE)\n",
    "        db = np.sum(dE)\n",
    "    elif(activation=='sigmoid'):\n",
    "        Yp = sigmoid(np.dot(X,W)+b)\n",
    "        dE = (Y-Yp)\n",
    "        dW = (1/m)*X.T.dot(dE)\n",
    "        db = np.sum(dE)\n",
    "    elif(activation=='tanh'):\n",
    "        Yp = tanh(np.dot(X,W)+b)\n",
    "        dE = (Y-Yp)\n",
    "        dW = (1/m)*X.T.dot(dE)\n",
    "        db = np.sum(dE)\n",
    "\n",
    "    elif(activation=='softmax'):\n",
    "        Yp = softmax(np.dot(X,W)+b)\n",
    "        dE = (Y-Yp)\n",
    "        dW = (1/m)*X.T.dot(dE)\n",
    "        db = np.sum(dE)\n",
    "    W = W+(dW*lr)\n",
    "    b = b+(db*lr)\n",
    "    return W, b"
   ]
  },
  {
   "cell_type": "code",
   "execution_count": 25,
   "metadata": {},
   "outputs": [
    {
     "name": "stderr",
     "output_type": "stream",
     "text": [
      "<ipython-input-15-dccb36cc58c7>:3: RuntimeWarning: overflow encountered in exp\n",
      "  return 1/(1+np.exp(-x))\n"
     ]
    }
   ],
   "source": [
    "W = np.random.randn(784,10)\n",
    "b = np.random.randn(10)\n",
    "epochs = 100\n",
    "for i in range(epochs):\n",
    "    W,b = update_weights_perceptron(x_train,y_train,W,b,0.01,'sigmoid')\n",
    "pred = sigmoid(np.dot(x_train,W)+b)"
   ]
  },
  {
   "cell_type": "code",
   "execution_count": 26,
   "metadata": {},
   "outputs": [
    {
     "name": "stdout",
     "output_type": "stream",
     "text": [
      "accuracy score :  87.3625\n"
     ]
    }
   ],
   "source": [
    "p = np.argmax(pred,axis=1)\n",
    "t = np.argmax(y_train,axis=1)\n",
    "print(\"accuracy score : \",accuracy_score(t,p)*100)"
   ]
  }
 ],
 "metadata": {
  "kernelspec": {
   "display_name": "Python 3",
   "language": "python",
   "name": "python3"
  },
  "language_info": {
   "codemirror_mode": {
    "name": "ipython",
    "version": 3
   },
   "file_extension": ".py",
   "mimetype": "text/x-python",
   "name": "python",
   "nbconvert_exporter": "python",
   "pygments_lexer": "ipython3",
   "version": "3.8.3"
  }
 },
 "nbformat": 4,
 "nbformat_minor": 4
}
