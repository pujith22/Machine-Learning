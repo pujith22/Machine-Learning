{
 "cells": [
  {
   "cell_type": "code",
   "execution_count": 1,
   "metadata": {},
   "outputs": [
    {
     "name": "stdout",
     "output_type": "stream",
     "text": [
      "[ 0.97221479 -0.92740028 -0.63338234 -0.576785   -0.51394308 -0.81066485\n",
      "  0.50877016 -1.24511252 -0.03315329 -0.31672968  0.34731047  0.37727811\n",
      " -0.749477   -0.35845986 -0.73594266  0.19585317 -1.31901384 -2.54999129\n",
      " -1.48009844  0.67231549 -0.80627534  0.99140209  0.18838675 -0.39416149\n",
      "  0.16057233 -0.62531824 -0.75183729  0.62463442  0.55325876  1.03677831\n",
      "  1.4242902  -2.05695552 -1.85543289  1.16253085 -0.28802843 -2.50679071\n",
      " -2.35706439  2.34382316  0.09240446 -1.11012116  0.61916749  0.70865674\n",
      " -0.72686415 -0.86596653  0.70313649 -0.59718063  0.08594065  0.65975115\n",
      " -0.99449372  0.71903647 -0.78020986  1.43170013 -0.37075467  0.34182477\n",
      " -0.9292206  -1.44132281  1.63085376  0.9782552   0.19592277 -0.62070193\n",
      " -0.96083161 -0.8377035  -0.49277161  0.92010711 -0.58262009 -0.00423353\n",
      " -0.12385248  0.85934768 -0.02088023 -0.18071929 -0.49545016  1.01441237\n",
      " -0.84777027 -0.45454538 -0.53220349 -0.11209985  2.25533352  0.04581569\n",
      "  0.16757811  0.76471136 -0.41988988 -1.85102944  0.38149575 -0.20724744\n",
      "  0.13250994 -0.42994976  0.18600503  0.11455694  0.19667599 -0.1624253\n",
      " -0.45903603  1.74160555 -0.50138967 -1.2435958  -0.48841424 -0.61793323\n",
      " -1.64076334 -0.26204921 -1.16822035  0.32033387]\n"
     ]
    },
    {
     "data": {
      "text/plain": [
       "numpy.ndarray"
      ]
     },
     "execution_count": 1,
     "metadata": {},
     "output_type": "execute_result"
    }
   ],
   "source": [
    "#part (a)\n",
    "import numpy as np\n",
    "import scipy\n",
    "import random\n",
    "from scipy.stats import norm\n",
    "\n",
    "random.seed(1)\n",
    "x = scipy.stats.norm.rvs(0,1,100)\n",
    "print(x)\n",
    "type(x)\n"
   ]
  },
  {
   "cell_type": "code",
   "execution_count": 2,
   "metadata": {},
   "outputs": [
    {
     "name": "stdout",
     "output_type": "stream",
     "text": [
      "[ 0.05134329  0.19175352  0.38992163  0.05443336  0.48360408  0.24973874\n",
      " -0.19169575  0.12362773 -0.04682272 -0.07134571  0.178674   -0.15468452\n",
      " -0.38596603 -0.26931792 -0.25112699 -0.03707416 -0.10588405 -0.24659402\n",
      " -0.22137272 -0.32473211 -0.26373246 -0.11456776 -0.06985854 -0.01103336\n",
      " -0.05339645  0.34171385  0.19228575 -0.29769024  0.3935461  -0.08723332\n",
      "  0.3358643  -0.21260122  0.20357906  0.55893656  0.42641531 -0.21267006\n",
      " -0.30318128 -0.27665186  0.09000275  0.34220521 -0.01590712  0.1092139\n",
      " -0.00496411 -0.09527561  0.28386229  0.1691921   0.31493174  0.17205523\n",
      " -0.35325198  0.04741577 -0.06116971 -0.3442523  -0.17273676  0.12423984\n",
      "  0.06550237 -0.19266313 -0.0174233   0.25442838 -0.04386765  0.03959369\n",
      "  0.00716803  0.46013086 -0.60308423 -0.04665738  0.02335581  0.00479238\n",
      " -0.35824608 -0.24283514  0.43250509 -0.04210549 -0.32839784 -0.28566618\n",
      "  0.28700475 -0.12793625 -0.50049858 -0.38392986 -0.07527084  0.08819376\n",
      "  0.10829534  0.32689289 -0.23510999  0.16093872 -0.02285449 -0.14726861\n",
      "  0.1258589   0.16623862 -0.05421325 -0.13792031 -0.09642576  0.00549327\n",
      "  0.21160836 -0.29536019  0.12910054 -0.4938821   0.15604439 -0.20409732\n",
      "  0.39097955  0.03636928  0.06479711  0.18805587]\n"
     ]
    }
   ],
   "source": [
    "# part(b)\n",
    "#i.e eps with 100 observations with mean=0 and standard deviation 0.25\n",
    "eps = scipy.stats.norm.rvs(0,0.25,100)\n",
    "print(eps)"
   ]
  },
  {
   "cell_type": "code",
   "execution_count": 3,
   "metadata": {},
   "outputs": [
    {
     "name": "stdout",
     "output_type": "stream",
     "text": [
      "[-0.46254931 -1.27194662 -0.92676954 -1.23395914 -0.77336747 -1.15559369\n",
      " -0.93731068 -1.49892853 -1.06339936 -1.22971055 -0.64767076 -0.96604546\n",
      " -1.76070452 -1.44854785 -1.61909832 -0.93914758 -1.76539097 -2.52158966\n",
      " -1.96142194 -0.98857436 -1.66687013 -0.61886672 -0.97566516 -1.20811411\n",
      " -0.97311028 -0.97094527 -1.18363289 -0.98537303 -0.32982452 -0.56884417\n",
      "  0.0480094  -2.24107898 -1.72413738  0.14020199 -0.7175989  -2.46606542\n",
      " -2.48171347 -0.10474028 -0.86379502 -1.21285537 -0.70632338 -0.53645773\n",
      " -1.36839619 -1.52825887 -0.36456947 -1.12939821 -0.64209794 -0.4980692\n",
      " -1.85049884 -0.593066   -1.45127464 -0.62840223 -1.3581141  -0.70484778\n",
      " -1.39910793 -1.91332454 -0.20199642 -0.25644402 -0.94590627 -1.27075728\n",
      " -1.47324777 -0.95872089 -1.84947004 -0.58660382 -1.26795424 -0.99732439\n",
      " -1.42017232 -0.8131613  -0.57793503 -1.13246514 -1.57612292 -0.77846\n",
      " -1.13688038 -1.35520893 -1.76660033 -1.43997979  0.05239593 -0.88889839\n",
      " -0.80791561 -0.29075143 -1.44505493 -1.764576   -0.83210662 -1.25089233\n",
      " -0.80788614 -1.04873626 -0.96121073 -1.08064184 -0.99808777 -1.07571938\n",
      " -1.01790966 -0.42455742 -1.12159429 -2.11568    -1.08816273 -1.51306394\n",
      " -1.42940212 -1.09465533 -1.51931306 -0.6517772 ]\n",
      "<class 'numpy.ndarray'>\n",
      "Length of vectory y:  100\n"
     ]
    }
   ],
   "source": [
    "# part (c)\n",
    "# creating Y = -1 + 0.5 X + eps using X,eps as generted above\n",
    "y = -1 + (0.5*x) + eps\n",
    "print(y)\n",
    "print(type(y))\n",
    "print(\"Length of vectory y: \",np.size(y))"
   ]
  },
  {
   "cell_type": "code",
   "execution_count": 4,
   "metadata": {},
   "outputs": [],
   "source": [
    "# As observed from above length of vector Y is 100."
   ]
  },
  {
   "cell_type": "code",
   "execution_count": 5,
   "metadata": {},
   "outputs": [
    {
     "data": {
      "text/plain": [
       "<Figure size 640x480 with 1 Axes>"
      ]
     },
     "metadata": {},
     "output_type": "display_data"
    }
   ],
   "source": [
    "# part (d)\n",
    "# Generating scatter plot of x,y values generated.\n",
    "import matplotlib.pyplot as plt\n",
    "plt.scatter(x,y)\n",
    "plt.show()"
   ]
  },
  {
   "cell_type": "code",
   "execution_count": 6,
   "metadata": {},
   "outputs": [],
   "source": [
    "# we observe that there is some kind of linear relationship between\n",
    "# variables x and y by seeing the plot"
   ]
  },
  {
   "cell_type": "code",
   "execution_count": 7,
   "metadata": {},
   "outputs": [
    {
     "name": "stdout",
     "output_type": "stream",
     "text": [
      "          X         Y\n",
      "0  0.972215 -0.462549\n",
      "1 -0.927400 -1.271947\n",
      "2 -0.633382 -0.926770\n",
      "3 -0.576785 -1.233959\n",
      "4 -0.513943 -0.773367\n",
      "           X         Y\n",
      "95 -0.617933 -1.513064\n",
      "96 -1.640763 -1.429402\n",
      "97 -0.262049 -1.094655\n",
      "98 -1.168220 -1.519313\n",
      "99  0.320334 -0.651777\n",
      "<class 'pandas.core.frame.DataFrame'>\n",
      "RangeIndex: 100 entries, 0 to 99\n",
      "Data columns (total 2 columns):\n",
      "X    100 non-null float64\n",
      "Y    100 non-null float64\n",
      "dtypes: float64(2)\n",
      "memory usage: 1.7 KB\n",
      "None\n",
      "                X           Y\n",
      "count  100.000000  100.000000\n",
      "mean    -0.185999   -1.099306\n",
      "std      0.950861    0.542683\n",
      "min     -2.549991   -2.521590\n",
      "25%     -0.750067   -1.441249\n",
      "50%     -0.275039   -1.069559\n",
      "75%      0.378333   -0.759425\n",
      "max      2.343823    0.140202\n"
     ]
    }
   ],
   "source": [
    "# creating pandas dataframe from the above data.\n",
    "import pandas as pd\n",
    "# creating dictionary to pass to the dataFrame\n",
    "XYdata = {'X':x, 'Y':y}\n",
    "df = pd.DataFrame(XYdata)\n",
    "print(df.head())\n",
    "print(df.tail())\n",
    "print(df.info())\n",
    "print(df.describe())"
   ]
  },
  {
   "cell_type": "code",
   "execution_count": 8,
   "metadata": {},
   "outputs": [
    {
     "name": "stdout",
     "output_type": "stream",
     "text": [
      "{'_results': <statsmodels.regression.linear_model.OLSResults object at 0x00000297EEA87C48>, '__doc__': \"\\n    Results class for for an OLS model.\\n\\n    Parameters\\n    ----------\\n    model : RegressionModel\\n        The regression model instance.\\n    params : ndarray\\n        The estimated parameters.\\n    normalized_cov_params : ndarray\\n        The normalized covariance parameters.\\n    scale : float\\n        The estimated scale of the residuals.\\n    cov_type : str\\n        The covariance estimator used in the results.\\n    cov_kwds : dict\\n        Additional keywords used in the covariance specification.\\n    use_t : bool\\n        Flag indicating to use the Student's t in inference.\\n    **kwargs\\n        Additional keyword arguments used to initialize the results.\\n\\n    See Also\\n    --------\\n    RegressionResults\\n        Results store for WLS and GLW models.\\n\\n    Notes\\n    -----\\n    Most of the methods and attributes are inherited from RegressionResults.\\n    The special methods that are only available for OLS are:\\n\\n    - get_influence\\n    - outlier_test\\n    - el_test\\n    - conf_int_el\\n    \"}\n",
      "...................... Results ......................\n",
      "                            OLS Regression Results                            \n",
      "==============================================================================\n",
      "Dep. Variable:                      Y   R-squared:                       0.798\n",
      "Model:                            OLS   Adj. R-squared:                  0.796\n",
      "Method:                 Least Squares   F-statistic:                     386.2\n",
      "Date:                Mon, 27 Jan 2020   Prob (F-statistic):           9.02e-36\n",
      "Time:                        01:05:29   Log-Likelihood:               -0.38756\n",
      "No. Observations:                 100   AIC:                             4.775\n",
      "Df Residuals:                      98   BIC:                             9.985\n",
      "Df Model:                           1                                         \n",
      "Covariance Type:            nonrobust                                         \n",
      "==============================================================================\n",
      "                 coef    std err          t      P>|t|      [0.025      0.975]\n",
      "------------------------------------------------------------------------------\n",
      "Intercept     -1.0045      0.025    -40.168      0.000      -1.054      -0.955\n",
      "X              0.5097      0.026     19.653      0.000       0.458       0.561\n",
      "==============================================================================\n",
      "Omnibus:                        1.390   Durbin-Watson:                   1.843\n",
      "Prob(Omnibus):                  0.499   Jarque-Bera (JB):                1.194\n",
      "Skew:                           0.076   Prob(JB):                        0.550\n",
      "Kurtosis:                       2.487   Cond. No.                         1.22\n",
      "==============================================================================\n",
      "\n",
      "Warnings:\n",
      "[1] Standard Errors assume that the covariance matrix of the errors is correctly specified.\n"
     ]
    }
   ],
   "source": [
    "# part (e)\n",
    "import statsmodels.formula.api as sm\n",
    "# fitting the data using ols model.\n",
    "results = sm.ols('Y ~ X',df).fit()\n",
    "type(results)\n",
    "\n",
    "print(results.__dict__)\n",
    "print(\"...................... Results ......................\")\n",
    "print(results.summary())"
   ]
  },
  {
   "cell_type": "code",
   "execution_count": 9,
   "metadata": {},
   "outputs": [],
   "source": [
    "# ols (ordinary Least Square model) is used to estimate beta_1 and beta_0 such a way to minimize\n",
    "# the square of the errors obtained from the model.\n",
    "# estimated beta_0 is -1.0609 while the actual beta_0 is -1\n",
    "# estimated beta_1 is 0.5051 while the actual beta_1 is 0.5\n",
    "# value of r-squared is 0.825\n",
    "# r-squared is represents how close the data are to the fitted regression line\n",
    "# it is known as the coefficient of determination, Higher R-squared values\n",
    "# represent smaller differences between the observed data and the fitted values."
   ]
  },
  {
   "cell_type": "code",
   "execution_count": 10,
   "metadata": {},
   "outputs": [
    {
     "name": "stdout",
     "output_type": "stream",
     "text": [
      "Parameters:  Intercept   -1.004499\n",
      "X            0.509716\n",
      "dtype: float64\n",
      "Standard errors:  Intercept    0.025007\n",
      "X            0.025936\n",
      "dtype: float64\n",
      "R-square:  0.7976218044423379\n"
     ]
    },
    {
     "data": {
      "image/png": "[encoded data removed]",
      "text/plain": [
       "<Figure size 432x288 with 1 Axes>"
      ]
     },
     "metadata": {
      "needs_background": "light"
     },
     "output_type": "display_data"
    }
   ],
   "source": [
    "# part (f)\n",
    "# scattered plot, least square line and population regression line\n",
    "# on the same plot with legend. (done according to the requirement)\n",
    "%matplotlib inline\n",
    "y_true = df.Y.values.copy()\n",
    "y_predicted = results.predict(df.X)\n",
    "y_population = -1 + 0.5*df.X.values\n",
    "\n",
    "plt.plot(df.X, y_true, 'o',label = 'Data')\n",
    "\n",
    "plt.plot(df.X, y_predicted, 'r-',linewidth=3,label='Fit')\n",
    "\n",
    "plt.plot(df.X, y_population, 'g--',linewidth=1,label='Population')\n",
    "plt.xlabel('X')\n",
    "plt.ylabel('mpg')\n",
    "plt.legend(loc ='best')\n",
    "print('Parameters: ',results.params)\n",
    "print('Standard errors: ',results.bse)\n",
    "print('R-square: ',results.rsquared)"
   ]
  },
  {
   "cell_type": "code",
   "execution_count": 11,
   "metadata": {},
   "outputs": [
    {
     "name": "stdout",
     "output_type": "stream",
     "text": [
      "Parameters:  Intercept   -1.004499\n",
      "X            0.509716\n",
      "dtype: float64\n",
      "Standard errors:  Intercept    0.025007\n",
      "X            0.025936\n",
      "dtype: float64\n",
      "R-square:  0.7976218044423379\n"
     ]
    },
    {
     "data": {
      "text/plain": [
       "<matplotlib.legend.Legend at 0x297eeb7f1c8>"
      ]
     },
     "execution_count": 11,
     "metadata": {},
     "output_type": "execute_result"
    },
    {
     "data": {
      "image/png": "[encoded data removed]",
      "text/plain": [
       "<Figure size 432x288 with 1 Axes>"
      ]
     },
     "metadata": {
      "needs_background": "light"
     },
     "output_type": "display_data"
    }
   ],
   "source": [
    "plt.plot(df.X, y_true, 'o',label = 'Data')\n",
    "\n",
    "plt.plot(df.X, y_predicted, 'r-',linewidth=3,label='Fit')\n",
    "\n",
    "plt.plot(df.X, y_population, 'g--',linewidth=1,label='Population')\n",
    "plt.xlabel('X')\n",
    "plt.ylabel('Y')\n",
    "plt.legend(loc ='best')\n",
    "print('Parameters: ',results.params)\n",
    "print('Standard errors: ',results.bse)\n",
    "print('R-square: ',results.rsquared)\n",
    "from statsmodels.sandbox.regression.predstd import wls_prediction_std\n",
    "_, upper,lower = wls_prediction_std(results)\n",
    "plt.plot(df.X, upper, '--k', label=\"Upper\")\n",
    "plt.plot(df.X, lower, '--g', label = \"Lower\")\n",
    "plt.legend(loc='best')"
   ]
  },
  {
   "cell_type": "code",
   "execution_count": 12,
   "metadata": {},
   "outputs": [
    {
     "name": "stdout",
     "output_type": "stream",
     "text": [
      "                            OLS Regression Results                            \n",
      "==============================================================================\n",
      "Dep. Variable:                     Y1   R-squared:                       0.989\n",
      "Model:                            OLS   Adj. R-squared:                  0.989\n",
      "Method:                 Least Squares   F-statistic:                     8532.\n",
      "Date:                Mon, 27 Jan 2020   Prob (F-statistic):           4.10e-97\n",
      "Time:                        01:05:30   Log-Likelihood:                 154.26\n",
      "No. Observations:                 100   AIC:                            -304.5\n",
      "Df Residuals:                      98   BIC:                            -299.3\n",
      "Df Model:                           1                                         \n",
      "Covariance Type:            nonrobust                                         \n",
      "==============================================================================\n",
      "                 coef    std err          t      P>|t|      [0.025      0.975]\n",
      "------------------------------------------------------------------------------\n",
      "Intercept     -0.9938      0.005   -189.843      0.000      -1.004      -0.983\n",
      "X1             0.5055      0.005     92.369      0.000       0.495       0.516\n",
      "==============================================================================\n",
      "Omnibus:                        0.853   Durbin-Watson:                   2.230\n",
      "Prob(Omnibus):                  0.653   Jarque-Bera (JB):                0.907\n",
      "Skew:                          -0.097   Prob(JB):                        0.635\n",
      "Kurtosis:                       2.575   Cond. No.                         1.07\n",
      "==============================================================================\n",
      "\n",
      "Warnings:\n",
      "[1] Standard Errors assume that the covariance matrix of the errors is correctly specified.\n",
      "Parameters:  Intercept   -0.993839\n",
      "X1           0.505487\n",
      "dtype: float64\n",
      "Standard errors:  Intercept    0.005235\n",
      "X1           0.005472\n",
      "dtype: float64\n",
      "R-square:  0.988644346726344\n"
     ]
    },
    {
     "data": {
      "text/plain": [
       "<matplotlib.legend.Legend at 0x297efc66ec8>"
      ]
     },
     "execution_count": 12,
     "metadata": {},
     "output_type": "execute_result"
    },
    {
     "data": {
      "image/png": "[encoded data removed]",
      "text/plain": [
       "<Figure size 432x288 with 1 Axes>"
      ]
     },
     "metadata": {
      "needs_background": "light"
     },
     "output_type": "display_data"
    }
   ],
   "source": [
    "# part (h) filling the blanks\n",
    "import scipy\n",
    "import random\n",
    "from scipy.stats import norm\n",
    "import pandas as pd\n",
    "import matplotlib.pyplot as plt\n",
    "import statsmodels.formula.api as sm\n",
    "random.seed(1)\n",
    "x_1 = scipy.stats.norm.rvs(0,1,100)\n",
    "eps_1 = scipy.stats.norm.rvs(0,0.05,100)\n",
    "y_1 = -1 + (0.5*x_1) + eps_1\n",
    "XYdataLessNoise = {'X1':x_1,'Y1':y_1}\n",
    "# creating a dataframe\n",
    "dfLessNoise = pd.DataFrame(XYdataLessNoise)\n",
    "#Perform linear regression on the Less noisy data\n",
    "resultsLessNoise = sm.ols('Y1 ~ X1',dfLessNoise).fit()\n",
    "print(resultsLessNoise.summary())\n",
    "%matplotlib inline\n",
    "#true, predicted and population data\n",
    "y1_true = dfLessNoise.Y1.values.copy()\n",
    "y1_predicted = resultsLessNoise.predict(dfLessNoise.X1)\n",
    "y1_population = -1 + 0.5*dfLessNoise.X1.values\n",
    "\n",
    "#plotting the data\n",
    "plt.plot(dfLessNoise.X1, y1_true, 'o', label='Data')\n",
    "\n",
    "#plot the prediction from the linear model\n",
    "plt.plot(dfLessNoise.X1,y1_predicted,'r-',linewidth=3, label='Fit')\n",
    "plt.plot(dfLessNoise.X1,y1_population, 'g--', linewidth=1, label='Population')\n",
    "plt.xlabel('X1')\n",
    "plt.ylabel('Y1')\n",
    "plt.legend(loc='best')\n",
    "\n",
    "print('Parameters: ',resultsLessNoise.params)\n",
    "\n",
    "print('Standard errors: ',resultsLessNoise.bse)\n",
    "\n",
    "print('R-square: ',resultsLessNoise.rsquared)\n",
    "\n",
    "from statsmodels.sandbox.regression.predstd import wls_prediction_std\n",
    "_, upper, lower = wls_prediction_std(resultsLessNoise)\n",
    "plt.plot(dfLessNoise.X1, upper,'--k',label=\"Upper\")\n",
    "plt.plot(dfLessNoise.X1, lower,'--g',label=\"Lower\")\n",
    "plt.legend(loc=\"best\")\n"
   ]
  },
  {
   "cell_type": "code",
   "execution_count": 13,
   "metadata": {},
   "outputs": [
    {
     "name": "stdout",
     "output_type": "stream",
     "text": [
      "                            OLS Regression Results                            \n",
      "==============================================================================\n",
      "Dep. Variable:                     Y2   R-squared:                       0.155\n",
      "Model:                            OLS   Adj. R-squared:                  0.146\n",
      "Method:                 Least Squares   F-statistic:                     17.94\n",
      "Date:                Mon, 27 Jan 2020   Prob (F-statistic):           5.15e-05\n",
      "Time:                        01:05:30   Log-Likelihood:                -159.89\n",
      "No. Observations:                 100   AIC:                             323.8\n",
      "Df Residuals:                      98   BIC:                             329.0\n",
      "Df Model:                           1                                         \n",
      "Covariance Type:            nonrobust                                         \n",
      "==============================================================================\n",
      "                 coef    std err          t      P>|t|      [0.025      0.975]\n",
      "------------------------------------------------------------------------------\n",
      "Intercept     -1.2991      0.121    -10.729      0.000      -1.539      -1.059\n",
      "X2             0.5775      0.136      4.236      0.000       0.307       0.848\n",
      "==============================================================================\n",
      "Omnibus:                        6.292   Durbin-Watson:                   1.838\n",
      "Prob(Omnibus):                  0.043   Jarque-Bera (JB):                6.419\n",
      "Skew:                          -0.405   Prob(JB):                       0.0404\n",
      "Kurtosis:                       3.940   Cond. No.                         1.14\n",
      "==============================================================================\n",
      "\n",
      "Warnings:\n",
      "[1] Standard Errors assume that the covariance matrix of the errors is correctly specified.\n",
      "Parameters:  Intercept   -1.299095\n",
      "X2           0.577454\n",
      "dtype: float64\n",
      "Standard errors:  Intercept    0.121088\n",
      "X2           0.136333\n",
      "dtype: float64\n",
      "R-square:  0.15473853522866898\n"
     ]
    },
    {
     "data": {
      "text/plain": [
       "<matplotlib.legend.Legend at 0x297efcfcf08>"
      ]
     },
     "execution_count": 13,
     "metadata": {},
     "output_type": "execute_result"
    },
    {
     "data": {
      "image/png": "[encoded data removed]",
      "text/plain": [
       "<Figure size 432x288 with 1 Axes>"
      ]
     },
     "metadata": {
      "needs_background": "light"
     },
     "output_type": "display_data"
    }
   ],
   "source": [
    "# part (h) filling the blanks\n",
    "import scipy\n",
    "import random\n",
    "from scipy.stats import norm\n",
    "import pandas as pd\n",
    "import matplotlib.pyplot as plt\n",
    "import statsmodels.formula.api as sm\n",
    "random.seed(1)\n",
    "x_2 = scipy.stats.norm.rvs(0,1,100)\n",
    "#observe standard deviation choosen for noise i.e 1.25\n",
    "eps_2 = scipy.stats.norm.rvs(0,1.25,100)\n",
    "y_2 = -1 + (0.5*x_2) + eps_2\n",
    "XYdataMoreNoise = {'X2':x_2,'Y2':y_2}\n",
    "# creating a dataframe\n",
    "dfMoreNoise = pd.DataFrame(XYdataMoreNoise)\n",
    "#Perform linear regression on the Less noisy data\n",
    "resultsMoreNoise = sm.ols('Y2 ~ X2',dfMoreNoise).fit()\n",
    "print(resultsMoreNoise.summary())\n",
    "%matplotlib inline\n",
    "#true, predicted and population data\n",
    "y2_true = dfMoreNoise.Y2.values.copy()\n",
    "y2_predicted = resultsMoreNoise.predict(dfMoreNoise.X2)\n",
    "y2_population = -1 + 0.5*dfMoreNoise.X2.values\n",
    "\n",
    "#plotting the data\n",
    "plt.plot(dfMoreNoise.X2, y2_true, 'o', label='Data')\n",
    "\n",
    "#plot the prediction from the linear model\n",
    "plt.plot(dfMoreNoise.X2,y2_predicted,'r-',linewidth=3, label='Fit')\n",
    "plt.plot(dfMoreNoise.X2,y2_population, 'g--', linewidth=1, label='Population')\n",
    "plt.xlabel('X2')\n",
    "plt.ylabel('Y2')\n",
    "plt.legend(loc='best')\n",
    "\n",
    "print('Parameters: ',resultsMoreNoise.params)\n",
    "\n",
    "print('Standard errors: ',resultsMoreNoise.bse)\n",
    "\n",
    "print('R-square: ',resultsMoreNoise.rsquared)\n",
    "\n",
    "from statsmodels.sandbox.regression.predstd import wls_prediction_std\n",
    "_, upper, lower = wls_prediction_std(resultsMoreNoise)\n",
    "plt.plot(dfMoreNoise.X2, upper,'--k',label=\"Upper\")\n",
    "plt.plot(dfMoreNoise.X2, lower,'--g',label=\"Lower\")\n",
    "plt.legend(loc=\"best\")"
   ]
  },
  {
   "cell_type": "code",
   "execution_count": 14,
   "metadata": {},
   "outputs": [],
   "source": [
    "# for part (h) blanks were successfully filled and executed successfully."
   ]
  }
 ],
 "metadata": {
  "kernelspec": {
   "display_name": "Python 3",
   "language": "python",
   "name": "python3"
  },
  "language_info": {
   "codemirror_mode": {
    "name": "ipython",
    "version": 3
   },
   "file_extension": ".py",
   "mimetype": "text/x-python",
   "name": "python",
   "nbconvert_exporter": "python",
   "pygments_lexer": "ipython3",
   "version": "3.6.5"
  }
 },
 "nbformat": 4,
 "nbformat_minor": 4
}
