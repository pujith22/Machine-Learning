{
 "cells": [
  {
   "cell_type": "code",
   "execution_count": 4,
   "metadata": {},
   "outputs": [
    {
     "name": "stdout",
     "output_type": "stream",
     "text": [
      "0.13436424411240122 0.8474337369372327 0.763774618976614\n",
      "0.13436424411240122 0.8474337369372327 0.763774618976614\n"
     ]
    }
   ],
   "source": [
    "from random import seed\n",
    "from random import random\n",
    "from random import shuffle\n",
    "seed(1)\n",
    "print(random(),random(),random())\n",
    "seed(1)\n",
    "print(random(),random(),random())"
   ]
  },
  {
   "cell_type": "code",
   "execution_count": 9,
   "metadata": {},
   "outputs": [
    {
     "name": "stdout",
     "output_type": "stream",
     "text": [
      "None\n"
     ]
    }
   ],
   "source": [
    "for random import randInt"
   ]
  },
  {
   "cell_type": "code",
   "execution_count": 10,
   "metadata": {},
   "outputs": [
    {
     "name": "stdout",
     "output_type": "stream",
     "text": [
      "[-0.64585263 -0.74798191 -1.34691307 -1.54233097 -1.30569307 -1.86506502\n",
      " -1.32266864 -1.93510361 -1.44501382 -1.06578356 -1.68551804 -1.07933263\n",
      " -0.88405478 -0.8890843  -1.03518136 -0.36972107 -0.39145799 -0.22507803\n",
      " -1.05004005 -1.69616    -0.48849356 -2.09309049 -1.35484059 -1.63429097\n",
      " -1.97393671 -1.6306786  -0.95802973 -0.21569929 -0.70959847 -0.68610789\n",
      " -1.42724741 -1.15504214 -0.93657414 -1.34192767 -0.94761919 -0.96985541\n",
      " -1.25327147 -0.25910338 -0.70736492  0.32459088 -2.26717411 -1.49498635\n",
      "  0.18700502 -0.70107878 -0.69111594 -0.81516851 -0.5226637  -0.85666684\n",
      " -1.24021375 -0.3820114  -1.52706961 -1.43548857 -0.92748602 -1.58839897\n",
      " -1.01572357 -1.52689521 -2.03456    -0.27920904 -2.12570506 -1.69856971\n",
      " -1.1853014  -0.64372397 -1.12405625 -0.82158851  0.15649895 -1.61682749\n",
      " -1.44147904 -1.11999806  0.11309817 -0.25831128 -1.66525353 -0.57297329\n",
      " -1.21809588 -1.54900498 -1.10892126 -0.83556991 -0.96616694 -1.53224135\n",
      " -0.72012358 -0.94219568 -1.72937283 -0.81710681 -1.28190826 -1.45054872\n",
      " -1.06430508 -0.87367419  0.39185277 -0.47994339 -0.05124658 -0.78439685\n",
      " -1.55627105 -1.45876669 -0.14173558 -1.29729674 -0.93276125 -1.20570983\n",
      " -1.63742682 -0.35669591 -1.48698444 -0.63386973]\n",
      "100\n"
     ]
    }
   ],
   "source": [
    "import numpy as np\n",
    "import scipy\n",
    "import random\n",
    "from scipy.stats import norm\n",
    "\n",
    "random.seed(1)\n",
    "x = scipy.stats.norm.rvs(0,1,100)\n",
    "eps = scipy.stats.norm.rvs(0,0.25,100)\n",
    "y = -1 + (0.5*x) + eps\n",
    "print(y)\n",
    "type(y)\n",
    "print(np.size(y))"
   ]
  },
  {
   "cell_type": "code",
   "execution_count": 11,
   "metadata": {},
   "outputs": [
    {
     "data": {
      "image/png": "[encoded data removed]",
      "text/plain": [
       "<Figure size 432x288 with 1 Axes>"
      ]
     },
     "metadata": {
      "needs_background": "light"
     },
     "output_type": "display_data"
    }
   ],
   "source": [
    "import matplotlib.pyplot as plt\n",
    "plt.scatter(x,y)\n",
    "plt.show()"
   ]
  },
  {
   "cell_type": "code",
   "execution_count": 12,
   "metadata": {},
   "outputs": [
    {
     "name": "stdout",
     "output_type": "stream",
     "text": [
      "          X         Y\n",
      "0  0.058970 -0.645853\n",
      "1  0.613837 -0.747982\n",
      "2 -0.809450 -1.346913\n",
      "3 -1.087128 -1.542331\n",
      "4 -0.852407 -1.305693\n",
      "           X         Y\n",
      "95 -1.153923 -1.205710\n",
      "96 -1.773309 -1.637427\n",
      "97  0.888881 -0.356696\n",
      "98 -1.525710 -1.486984\n",
      "99  0.419230 -0.633870\n",
      "<class 'pandas.core.frame.DataFrame'>\n",
      "RangeIndex: 100 entries, 0 to 99\n",
      "Data columns (total 2 columns):\n",
      "X    100 non-null float64\n",
      "Y    100 non-null float64\n",
      "dtypes: float64(2)\n",
      "memory usage: 1.7 KB\n",
      "None\n",
      "                X           Y\n",
      "count  100.000000  100.000000\n",
      "mean    -0.131908   -1.037898\n",
      "std      0.997209    0.570962\n",
      "min     -2.407820   -2.267174\n",
      "25%     -0.856396   -1.465821\n",
      "50%     -0.231526   -1.057173\n",
      "75%      0.687618   -0.698588\n",
      "max      1.746054    0.391853\n"
     ]
    }
   ],
   "source": [
    "import pandas as pd\n",
    "XYdata = {'X':x, 'Y':y}\n",
    "\n",
    "df = pd.DataFrame(XYdata)\n",
    "print(df.head())\n",
    "print(df.tail())\n",
    "print(df.info())\n",
    "print(df.describe())"
   ]
  },
  {
   "cell_type": "code",
   "execution_count": 19,
   "metadata": {},
   "outputs": [
    {
     "name": "stdout",
     "output_type": "stream",
     "text": [
      "{'_results': <statsmodels.regression.linear_model.OLSResults object at 0x00000132C2F03780>, '__doc__': '\\n    Results class for for an OLS model.\\n\\n    Most of the methods and attributes are inherited from RegressionResults.\\n    The special methods that are only available for OLS are:\\n\\n    - get_influence\\n    - outlier_test\\n    - el_test\\n    - conf_int_el\\n\\n    See Also\\n    --------\\n    RegressionResults\\n\\n    '}\n",
      "...................... Results ......................\n",
      "                            OLS Regression Results                            \n",
      "==============================================================================\n",
      "Dep. Variable:                      Y   R-squared:                       0.828\n",
      "Model:                            OLS   Adj. R-squared:                  0.826\n",
      "Method:                 Least Squares   F-statistic:                     470.3\n",
      "Date:                Mon, 20 Jan 2020   Prob (F-statistic):           3.47e-39\n",
      "Time:                        12:53:46   Log-Likelihood:                 2.5381\n",
      "No. Observations:                 100   AIC:                            -1.076\n",
      "Df Residuals:                      98   BIC:                             4.134\n",
      "Df Model:                           1                                         \n",
      "Covariance Type:            nonrobust                                         \n",
      "==============================================================================\n",
      "                 coef    std err          t      P>|t|      [0.025      0.975]\n",
      "------------------------------------------------------------------------------\n",
      "Intercept     -0.9692      0.024    -40.316      0.000      -1.017      -0.921\n",
      "X              0.5209      0.024     21.687      0.000       0.473       0.569\n",
      "==============================================================================\n",
      "Omnibus:                        4.502   Durbin-Watson:                   2.348\n",
      "Prob(Omnibus):                  0.105   Jarque-Bera (JB):                3.238\n",
      "Skew:                           0.294   Prob(JB):                        0.198\n",
      "Kurtosis:                       2.343   Cond. No.                         1.14\n",
      "==============================================================================\n",
      "\n",
      "Warnings:\n",
      "[1] Standard Errors assume that the covariance matrix of the errors is correctly specified.\n"
     ]
    }
   ],
   "source": [
    "import statsmodels.formula.api as sm\n",
    "\n",
    "results = sm.ols('Y ~ X',df).fit()\n",
    "type(results)\n",
    "\n",
    "print(results.__dict__)\n",
    "print(\"...................... Results ......................\")\n",
    "print(results.summary())"
   ]
  },
  {
   "cell_type": "code",
   "execution_count": 23,
   "metadata": {},
   "outputs": [
    {
     "name": "stdout",
     "output_type": "stream",
     "text": [
      "Parameters:  Intercept   -0.969192\n",
      "X            0.520861\n",
      "dtype: float64\n",
      "Standard errors:  Intercept    0.024040\n",
      "X            0.024017\n",
      "dtype: float64\n",
      "R-square:  0.8275630881262597\n"
     ]
    },
    {
     "data": {
      "image/png": "[encoded data removed]",
      "text/plain": [
       "<Figure size 432x288 with 1 Axes>"
      ]
     },
     "metadata": {
      "needs_background": "light"
     },
     "output_type": "display_data"
    }
   ],
   "source": [
    "%matplotlib inline\n",
    "y_true = df.Y.values.copy()\n",
    "y_predicted = results.predict(df.X)\n",
    "y_population = -1 + 0.5*df.X.values\n",
    "\n",
    "plt.plot(df.X, y_true, 'o',label = 'Data')\n",
    "\n",
    "plt.plot(df.X, y_predicted, 'r-',linewidth=3,label='Fit')\n",
    "\n",
    "plt.plot(df.X, y_population, 'g--',linewidth=1,label='Population')\n",
    "plt.xlabel('X')\n",
    "plt.ylabel('mpg')\n",
    "plt.legend(loc ='best')\n",
    "\n",
    "print('Parameters: ',results.params)\n",
    "print('Standard errors: ',results.bse)\n",
    "print('R-square: ',results.rsquared)"
   ]
  },
  {
   "cell_type": "code",
   "execution_count": null,
   "metadata": {},
   "outputs": [],
   "source": []
  }
 ],
 "metadata": {
  "kernelspec": {
   "display_name": "Python 3",
   "language": "python",
   "name": "python3"
  },
  "language_info": {
   "codemirror_mode": {
    "name": "ipython",
    "version": 3
   },
   "file_extension": ".py",
   "mimetype": "text/x-python",
   "name": "python",
   "nbconvert_exporter": "python",
   "pygments_lexer": "ipython3",
   "version": "3.6.5"
  }
 },
 "nbformat": 4,
 "nbformat_minor": 4
}
